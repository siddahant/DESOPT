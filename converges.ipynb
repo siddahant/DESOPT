{
  "nbformat": 4,
  "nbformat_minor": 0,
  "metadata": {
    "colab": {
      "provenance": [],
      "collapsed_sections": [],
      "authorship_tag": "ABX9TyPD6wtvWFRhFuhmj8EGsyFQ",
      "include_colab_link": true
    },
    "kernelspec": {
      "name": "python3",
      "display_name": "Python 3"
    },
    "language_info": {
      "name": "python"
    }
  },
  "cells": [
    {
      "cell_type": "markdown",
      "metadata": {
        "id": "view-in-github",
        "colab_type": "text"
      },
      "source": [
        "<a href=\"https://colab.research.google.com/github/siddahant/DESOPT/blob/Second/converges.ipynb\" target=\"_parent\"><img src=\"https://colab.research.google.com/assets/colab-badge.svg\" alt=\"Open In Colab\"/></a>"
      ]
    },
    {
      "cell_type": "code",
      "source": [
        "import numpy as np"
      ],
      "metadata": {
        "id": "QFy5v2577c62"
      },
      "execution_count": 121,
      "outputs": []
    },
    {
      "cell_type": "code",
      "execution_count": 185,
      "metadata": {
        "id": "ggpfMs2gXZi2"
      },
      "outputs": [],
      "source": [
        "fun= lambda x: (2-2*x[0]-3*x[1])**2 + (x[0])**2 + (x[1]-1)**2\n",
        "\n",
        "def g(x):\n",
        "  return np.array([(10*x[0]+12*x[1]-8), (12*x[0]+20*x[1]-14)])\n",
        "\n",
        "H = np.array([[10,12],[12,20]])"
      ]
    },
    {
      "cell_type": "code",
      "source": [
        "def linesearch(x):\n",
        "    a = 0.01\n",
        "    d = -1 * g(x)\n",
        "    t = 0.7\n",
        "    def pi(a, x):\n",
        "        return fun(x) - a * t * np.matmul(np.transpose(g(x)), d)\n",
        "    while pi(a, x) < fun(x - a * g(x)):\n",
        "        a = 0.5 * a\n",
        "    return a\n",
        "\n",
        "def gradient(fun, g, H, x0):\n",
        "  x=x0\n",
        "  iter=0\n",
        "  error= np.linalg.norm(g(x))\n",
        "  error_history =[]\n",
        "  path=[]\n",
        "  while error> 1e-03 and iter<1000:\n",
        "    a=linesearch(x)\n",
        "    x = x - a*(g(x))\n",
        "    error=np.linalg.norm(g(x))\n",
        "    path.append(x)\n",
        "    error_history.append(error)\n",
        "    iter +=1\n",
        "  return x,error_history,path"
      ],
      "metadata": {
        "id": "K_RV_K-fADXS"
      },
      "execution_count": 212,
      "outputs": []
    },
    {
      "cell_type": "code",
      "source": [
        "x,error_history,path=gradient(fun, g, H, np.array([1,1]))\n"
      ],
      "metadata": {
        "id": "Z3QKnej8-B6g"
      },
      "execution_count": 216,
      "outputs": []
    },
    {
      "cell_type": "code",
      "source": [
        "import matplotlib.pyplot as plt\n",
        "plt.plot((error_history))\n",
        "plt.yscale(\"log\")\n"
      ],
      "metadata": {
        "colab": {
          "base_uri": "https://localhost:8080/",
          "height": 265
        },
        "id": "otIIL6AqRWEC",
        "outputId": "ba6200ff-84b2-4491-bfbe-cdbdf6fef501"
      },
      "execution_count": 217,
      "outputs": [
        {
          "output_type": "display_data",
          "data": {
            "text/plain": [
              "<Figure size 432x288 with 1 Axes>"
            ],
            "image/png": "[encoded data removed]"
          },
          "metadata": {
            "needs_background": "light"
          }
        }
      ]
    },
    {
      "cell_type": "code",
      "source": [
        "plt.plot((path))\n",
        "# plt.yscale(\"log\")"
      ],
      "metadata": {
        "id": "NuXVwfaNXEyi",
        "colab": {
          "base_uri": "https://localhost:8080/",
          "height": 300
        },
        "outputId": "9243572b-8117-44a8-ab68-7c4088911e43"
      },
      "execution_count": 219,
      "outputs": [
        {
          "output_type": "execute_result",
          "data": {
            "text/plain": [
              "[<matplotlib.lines.Line2D at 0x7feed1efa510>,\n",
              " <matplotlib.lines.Line2D at 0x7feed1efa750>]"
            ]
          },
          "metadata": {},
          "execution_count": 219
        },
        {
          "output_type": "display_data",
          "data": {
            "text/plain": [
              "<Figure size 432x288 with 1 Axes>"
            ],
            "image/png": "[encoded data removed]"
          },
          "metadata": {
            "needs_background": "light"
          }
        }
      ]
    },
    {
      "cell_type": "code",
      "source": [],
      "metadata": {
        "id": "HqMivb5DK9Ty"
      },
      "execution_count": null,
      "outputs": []
    }
  ]
}