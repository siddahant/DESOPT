{
  "nbformat": 4,
  "nbformat_minor": 0,
  "metadata": {
    "colab": {
      "provenance": [],
      "collapsed_sections": [],
      "authorship_tag": "ABX9TyMHKfa9ZpNHxePXv6nJcA2c",
      "include_colab_link": true
    },
    "kernelspec": {
      "name": "python3",
      "display_name": "Python 3"
    },
    "language_info": {
      "name": "python"
    }
  },
  "cells": [
    {
      "cell_type": "markdown",
      "metadata": {
        "id": "view-in-github",
        "colab_type": "text"
      },
      "source": [
        "<a href=\"https://colab.research.google.com/github/siddahant/DESOPT/blob/Second/converges.ipynb\" target=\"_parent\"><img src=\"https://colab.research.google.com/assets/colab-badge.svg\" alt=\"Open In Colab\"/></a>"
      ]
    },
    {
      "cell_type": "code",
      "source": [
        "import numpy as np"
      ],
      "metadata": {
        "id": "QFy5v2577c62"
      },
      "execution_count": 1,
      "outputs": []
    },
    {
      "cell_type": "code",
      "source": [
        "def linesearch(fun, g, H, x):\n",
        "  a = 1 # maximum step length\n",
        "  t = 0.4 # scale factor \n",
        "  count=0\n",
        "  g=g(x)\n",
        "  while count<100:\n",
        "    if (fun(x-a*g) < fun(x) - t*a* np.dot(g, g)):\n",
        "      break\n",
        "    else:\n",
        "      a=a*0.5\n",
        "      count +=1 \n",
        "  return a"
      ],
      "metadata": {
        "id": "K_RV_K-fADXS"
      },
      "execution_count": 24,
      "outputs": []
    },
    {
      "cell_type": "code",
      "execution_count": 26,
      "metadata": {
        "id": "ggpfMs2gXZi2"
      },
      "outputs": [],
      "source": [
        "fun= lambda x: (2-2*x[0]-3*x[1])**2 + (x[0])**2 + (x[1]-1)**2"
      ]
    },
    {
      "cell_type": "code",
      "source": [
        "def g(x):\n",
        "  return np.array([(10*x[0]+12*x[1]-8), (12*x[0]+20*x[1]-14)])\n",
        "H = np.array([[10,12],[12,20]])"
      ],
      "metadata": {
        "id": "Z3QKnej8-B6g"
      },
      "execution_count": 27,
      "outputs": []
    },
    {
      "cell_type": "code",
      "source": [
        "linesearch(fun,g,H,[2,3])"
      ],
      "metadata": {
        "colab": {
          "base_uri": "https://localhost:8080/"
        },
        "id": "fH9Er1E1H7GU",
        "outputId": "3389182b-aded-4f2e-a57c-c6a0ba4c3b5e"
      },
      "execution_count": 28,
      "outputs": [
        {
          "output_type": "execute_result",
          "data": {
            "text/plain": [
              "0.03125"
            ]
          },
          "metadata": {},
          "execution_count": 28
        }
      ]
    },
    {
      "cell_type": "code",
      "source": [
        "def gradient(fun, g, H, x0):\n",
        "  x=x0\n",
        "  iter=0\n",
        "  grad_norm= np.linalg.norm(fun(x))\n",
        "  while grad_norm> 0.0001 and iter<100:\n",
        "    iter +=1\n",
        "    a=linesearch(fun, g, H,x)\n",
        "    x = x - a*(g(x))\n",
        "    grad_norm=np.linalg.norm(fun(x))\n",
        "  return x"
      ],
      "metadata": {
        "id": "gkSqRQB8IObj"
      },
      "execution_count": 40,
      "outputs": []
    },
    {
      "cell_type": "code",
      "source": [
        "gradient(fun, g, H, np.array([1,1]))"
      ],
      "metadata": {
        "colab": {
          "base_uri": "https://localhost:8080/"
        },
        "id": "paatfj3MLbZF",
        "outputId": "c00186df-4105-487b-c6b1-55f134b1fc9a"
      },
      "execution_count": 41,
      "outputs": [
        {
          "output_type": "execute_result",
          "data": {
            "text/plain": [
              "array([-0.14285714,  0.78571428])"
            ]
          },
          "metadata": {},
          "execution_count": 41
        }
      ]
    }
  ]
}