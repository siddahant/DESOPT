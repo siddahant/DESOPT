{
  "nbformat": 4,
  "nbformat_minor": 0,
  "metadata": {
    "colab": {
      "provenance": [],
      "collapsed_sections": [],
      "authorship_tag": "ABX9TyOG4takdf623WunVpqIhvx6",
      "include_colab_link": true
    },
    "kernelspec": {
      "name": "python3",
      "display_name": "Python 3"
    },
    "language_info": {
      "name": "python"
    }
  },
  "cells": [
    {
      "cell_type": "markdown",
      "metadata": {
        "id": "view-in-github",
        "colab_type": "text"
      },
      "source": [
        "<a href=\"https://colab.research.google.com/github/siddahant/DESOPT/blob/Second/converges.ipynb\" target=\"_parent\"><img src=\"https://colab.research.google.com/assets/colab-badge.svg\" alt=\"Open In Colab\"/></a>"
      ]
    },
    {
      "cell_type": "code",
      "source": [
        "import numpy as np\n",
        "import matplotlib.pyplot as plt"
      ],
      "metadata": {
        "id": "QFy5v2577c62"
      },
      "execution_count": 3,
      "outputs": []
    },
    {
      "cell_type": "code",
      "execution_count": 4,
      "metadata": {
        "id": "ggpfMs2gXZi2"
      },
      "outputs": [],
      "source": [
        "fun= lambda x: (2-2*x[0]-3*x[1])**2 + (x[0])**2 + (x[1]-1)**2\n",
        "\n",
        "def g(x):\n",
        "  return np.array([(10*x[0]+12*x[1]-8), (12*x[0]+20*x[1]-14)])\n",
        "\n",
        "H = np.array([[10,12],[12,20]])"
      ]
    },
    {
      "cell_type": "code",
      "source": [
        "def linesearch(x):\n",
        "    a = 0.01\n",
        "    d = -1 * g(x)\n",
        "    t = 0.7\n",
        "    def pi(a, x):\n",
        "        return fun(x) - a * t * np.matmul(np.transpose(g(x)), d)\n",
        "    while pi(a, x) < fun(x - a * g(x)):\n",
        "        a = 0.5 * a\n",
        "    return a\n",
        "\n",
        "\n",
        "\n",
        "def gradient(fun, g, H, x0):\n",
        "  x=x0\n",
        "  iter=0\n",
        "  error= np.linalg.norm(g(x))\n",
        "  error_history =[]\n",
        "  path=[]\n",
        "  while error> 1e-03 and iter<1000:\n",
        "    a=linesearch(x)\n",
        "    x = x - a*(g(x))\n",
        "    error=np.linalg.norm(g(x))\n",
        "    path.append(x)\n",
        "    error_history.append(error)\n",
        "    iter +=1\n",
        "  return x,error_history,path"
      ],
      "metadata": {
        "id": "K_RV_K-fADXS"
      },
      "execution_count": 20,
      "outputs": []
    },
    {
      "cell_type": "code",
      "source": [
        "x,error_history,path=gradient(fun, g, H, np.array([1,1]))"
      ],
      "metadata": {
        "id": "Z3QKnej8-B6g"
      },
      "execution_count": 21,
      "outputs": []
    },
    {
      "cell_type": "code",
      "source": [
        "import matplotlib.pyplot as plt\n",
        "plt.plot((error_history))\n",
        "plt.yscale(\"log\")\n"
      ],
      "metadata": {
        "colab": {
          "base_uri": "https://localhost:8080/",
          "height": 265
        },
        "id": "otIIL6AqRWEC",
        "outputId": "e80a7df5-6598-46c7-cf22-483ea7fe590e"
      },
      "execution_count": 22,
      "outputs": [
        {
          "output_type": "display_data",
          "data": {
            "text/plain": [
              "<Figure size 432x288 with 1 Axes>"
            ],
            "image/png": "[encoded data removed]"
          },
          "metadata": {
            "needs_background": "light"
          }
        }
      ]
    },
    {
      "cell_type": "code",
      "source": [
        "plt.plot((path))"
      ],
      "metadata": {
        "id": "NuXVwfaNXEyi",
        "colab": {
          "base_uri": "https://localhost:8080/",
          "height": 300
        },
        "outputId": "6bbca9c5-de11-4f72-b43a-0281700a943e"
      },
      "execution_count": 23,
      "outputs": [
        {
          "output_type": "execute_result",
          "data": {
            "text/plain": [
              "[<matplotlib.lines.Line2D at 0x7fe1bd05a810>,\n",
              " <matplotlib.lines.Line2D at 0x7fe1bd05aa50>]"
            ]
          },
          "metadata": {},
          "execution_count": 23
        },
        {
          "output_type": "display_data",
          "data": {
            "text/plain": [
              "<Figure size 432x288 with 1 Axes>"
            ],
            "image/png": "[encoded data removed]"
          },
          "metadata": {
            "needs_background": "light"
          }
        }
      ]
    },
    {
      "cell_type": "code",
      "source": [
        "\n",
        "def line_search(x):\n",
        "    a = 1\n",
        "    d = -  np.matmul(np.linalg.inv(H), g(x))\n",
        "    def pi(a, x):\n",
        "        return fun(x) - a * 0.8 * np.matmul(np.transpose(g(x)), d)\n",
        "    while pi(a, x) < fun(x + a * d):\n",
        "        a = 0.5 * a\n",
        "    return a\n",
        "\n",
        "np.linalg.inv(H)\n",
        "def Newton(fun, g, H, x0):\n",
        "  x=x0\n",
        "  error = np.linalg.norm(g(x))\n",
        "  while error >= 1e-03:\n",
        "      a = line_search(x)\n",
        "      a\n",
        "  #     x = x - a * grad(x)\n",
        "      x = x - a * np.matmul(np.linalg.inv(H), g(x))\n",
        "      error = np.linalg.norm(g(x))\n",
        "      \n"
      ],
      "metadata": {
        "id": "HqMivb5DK9Ty"
      },
      "execution_count": 24,
      "outputs": []
    },
    {
      "cell_type": "code",
      "source": [
        "Newton(fun, g, H, np.array([0,0]))"
      ],
      "metadata": {
        "id": "Fy-4q6kKOtuI"
      },
      "execution_count": null,
      "outputs": []
    },
    {
      "cell_type": "code",
      "source": [
        "plt.plot((error_history))\n",
        "plt.yscale(\"log\")\n"
      ],
      "metadata": {
        "colab": {
          "base_uri": "https://localhost:8080/",
          "height": 265
        },
        "id": "yioP0rK4Ox9T",
        "outputId": "1bcb9d57-41a3-47fa-9692-d23956dab528"
      },
      "execution_count": 26,
      "outputs": [
        {
          "output_type": "display_data",
          "data": {
            "text/plain": [
              "<Figure size 432x288 with 1 Axes>"
            ],
            "image/png": "[encoded data removed]"
          },
          "metadata": {
            "needs_background": "light"
          }
        }
      ]
    },
    {
      "cell_type": "code",
      "source": [
        "plt.plot((path))"
      ],
      "metadata": {
        "colab": {
          "base_uri": "https://localhost:8080/",
          "height": 300
        },
        "id": "Y4jWcxX4Oz5m",
        "outputId": "befb64f2-1073-47c9-ddca-c8ea5519b310"
      },
      "execution_count": 258,
      "outputs": [
        {
          "output_type": "execute_result",
          "data": {
            "text/plain": [
              "[<matplotlib.lines.Line2D at 0x7feed27c4bd0>,\n",
              " <matplotlib.lines.Line2D at 0x7feed27c4dd0>]"
            ]
          },
          "metadata": {},
          "execution_count": 258
        },
        {
          "output_type": "display_data",
          "data": {
            "text/plain": [
              "<Figure size 432x288 with 1 Axes>"
            ],
            "image/png": "[encoded data removed]"
          },
          "metadata": {
            "needs_background": "light"
          }
        }
      ]
    },
    {
      "cell_type": "code",
      "source": [],
      "metadata": {
        "id": "AsNMs_dIO3S1"
      },
      "execution_count": null,
      "outputs": []
    }
  ]
}