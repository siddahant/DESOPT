{
  "nbformat": 4,
  "nbformat_minor": 0,
  "metadata": {
    "colab": {
      "provenance": [],
      "collapsed_sections": [],
      "authorship_tag": "ABX9TyN/2LaOaQN0YGZf7mCjehVY",
      "include_colab_link": true
    },
    "kernelspec": {
      "name": "python3",
      "display_name": "Python 3"
    },
    "language_info": {
      "name": "python"
    }
  },
  "cells": [
    {
      "cell_type": "markdown",
      "metadata": {
        "id": "view-in-github",
        "colab_type": "text"
      },
      "source": [
        "<a href=\"https://colab.research.google.com/github/siddahant/DESOPT/blob/Second/converges.ipynb\" target=\"_parent\"><img src=\"https://colab.research.google.com/assets/colab-badge.svg\" alt=\"Open In Colab\"/></a>"
      ]
    },
    {
      "cell_type": "code",
      "source": [
        "import numpy as np"
      ],
      "metadata": {
        "id": "QFy5v2577c62"
      },
      "execution_count": 121,
      "outputs": []
    },
    {
      "cell_type": "code",
      "execution_count": 185,
      "metadata": {
        "id": "ggpfMs2gXZi2"
      },
      "outputs": [],
      "source": [
        "fun= lambda x: (2-2*x[0]-3*x[1])**2 + (x[0])**2 + (x[1]-1)**2\n",
        "\n",
        "def g(x):\n",
        "  return np.array([(10*x[0]+12*x[1]-8), (12*x[0]+20*x[1]-14)])\n",
        "\n",
        "H = np.array([[10,12],[12,20]])"
      ]
    },
    {
      "cell_type": "code",
      "source": [
        "def linesearch( fun, g, H, x):\n",
        "  a = 1 # maximum step length\n",
        "  t = 0.4 # scale factor \n",
        "  count=0\n",
        "  g=g(x)\n",
        "  while count<100:\n",
        "    if (fun(x-a*g) < fun(x) - t*a* np.dot(g, g)):\n",
        "      break\n",
        "    else:\n",
        "      a=a*0.5\n",
        "      count +=1 \n",
        "  return a\n",
        "\n",
        "def gradient(fun, g, H, x0):\n",
        "  x=x0\n",
        "  iter=0\n",
        "  error= np.linalg.norm(g(x))\n",
        "  error_history =[]\n",
        "  path=[]\n",
        "  while error> 1e-03 and iter<1000:\n",
        "    a=linesearch(fun, g, H,x)\n",
        "    x = x - a*(g(x))\n",
        "    error=np.linalg.norm(g(x))\n",
        "    path.append(x)\n",
        "    error_history.append(error)\n",
        "    iter +=1\n",
        "  return x,error_history,path"
      ],
      "metadata": {
        "id": "K_RV_K-fADXS"
      },
      "execution_count": 201,
      "outputs": []
    },
    {
      "cell_type": "code",
      "source": [
        "x,error_history,path=gradient(fun, g, H, np.array([0,0]))\n"
      ],
      "metadata": {
        "id": "Z3QKnej8-B6g"
      },
      "execution_count": 205,
      "outputs": []
    },
    {
      "cell_type": "code",
      "source": [
        "import matplotlib.pyplot as plt\n",
        "plt.plot((error_history))\n",
        "plt.yscale(\"log\")\n"
      ],
      "metadata": {
        "colab": {
          "base_uri": "https://localhost:8080/",
          "height": 265
        },
        "id": "otIIL6AqRWEC",
        "outputId": "aa7b8d12-33de-4e23-953e-a1d55103bc1d"
      },
      "execution_count": 206,
      "outputs": [
        {
          "output_type": "display_data",
          "data": {
            "text/plain": [
              "<Figure size 432x288 with 1 Axes>"
            ],
            "image/png": "[encoded data removed]"
          },
          "metadata": {
            "needs_background": "light"
          }
        }
      ]
    },
    {
      "cell_type": "code",
      "source": [
        "plt.plot((path))\n",
        "plt.yscale(\"log\")"
      ],
      "metadata": {
        "id": "NuXVwfaNXEyi",
        "colab": {
          "base_uri": "https://localhost:8080/",
          "height": 265
        },
        "outputId": "e6cf0407-b456-4f80-a1a5-25f6dc118ca9"
      },
      "execution_count": 207,
      "outputs": [
        {
          "output_type": "display_data",
          "data": {
            "text/plain": [
              "<Figure size 432x288 with 1 Axes>"
            ],
            "image/png": "[encoded data removed]"
          },
          "metadata": {
            "needs_background": "light"
          }
        }
      ]
    },
    {
      "cell_type": "code",
      "source": [],
      "metadata": {
        "colab": {
          "base_uri": "https://localhost:8080/"
        },
        "id": "w9Bf9dtTKsHs",
        "outputId": "a3e6610a-3192-474a-b48f-abefbf51b210"
      },
      "execution_count": 208,
      "outputs": [
        {
          "output_type": "execute_result",
          "data": {
            "text/plain": [
              "array([-0.14252114,  0.78549888])"
            ]
          },
          "metadata": {},
          "execution_count": 208
        }
      ]
    },
    {
      "cell_type": "code",
      "source": [],
      "metadata": {
        "id": "HqMivb5DK9Ty"
      },
      "execution_count": null,
      "outputs": []
    }
  ]
}