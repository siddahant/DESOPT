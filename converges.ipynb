{
  "nbformat": 4,
  "nbformat_minor": 0,
  "metadata": {
    "colab": {
      "provenance": [],
      "collapsed_sections": [],
      "authorship_tag": "ABX9TyOoZ+QRW/i0/aMwWsBwMYdE",
      "include_colab_link": true
    },
    "kernelspec": {
      "name": "python3",
      "display_name": "Python 3"
    },
    "language_info": {
      "name": "python"
    }
  },
  "cells": [
    {
      "cell_type": "markdown",
      "metadata": {
        "id": "view-in-github",
        "colab_type": "text"
      },
      "source": [
        "<a href=\"https://colab.research.google.com/github/siddahant/DESOPT/blob/Second/converges.ipynb\" target=\"_parent\"><img src=\"https://colab.research.google.com/assets/colab-badge.svg\" alt=\"Open In Colab\"/></a>"
      ]
    },
    {
      "cell_type": "code",
      "source": [
        "import numpy as np"
      ],
      "metadata": {
        "id": "QFy5v2577c62"
      },
      "execution_count": 81,
      "outputs": []
    },
    {
      "cell_type": "code",
      "source": [
        "def linesearch(fun, g, H, x):\n",
        "  a = 1 # maximum step length\n",
        "  t = 0.4 # scale factor \n",
        "  count=0\n",
        "  g=g(x)\n",
        "  while count<100:\n",
        "    if (fun(x-a*g) < fun(x) - t*a* np.dot(g, g)):\n",
        "      break\n",
        "    else:\n",
        "      a=a*0.5\n",
        "      count +=1 \n",
        "  return a\n",
        "\n",
        "def gradient(fun, g, H, x0):\n",
        "  x=x0\n",
        "  iter=0\n",
        "  error= np.linalg.norm(fun(x))\n",
        "  error_history = np.zeros(100)\n",
        "  while error> 0.0001 and iter<100:\n",
        "    a=linesearch(fun, g, H,x)\n",
        "    x = x - a*(g(x))\n",
        "    error=np.linalg.norm(fun(x))\n",
        "    error_history[iter]=error\n",
        "    iter +=1\n",
        "  return x,error_history"
      ],
      "metadata": {
        "id": "K_RV_K-fADXS"
      },
      "execution_count": 82,
      "outputs": []
    },
    {
      "cell_type": "code",
      "execution_count": 83,
      "metadata": {
        "id": "ggpfMs2gXZi2"
      },
      "outputs": [],
      "source": [
        "fun= lambda x: (2-2*x[0]-3*x[1])**2 + (x[0])**2 + (x[1]-1)**2\n",
        "\n",
        "def g(x):\n",
        "  return np.array([(10*x[0]+12*x[1]-8), (12*x[0]+20*x[1]-14)])\n",
        "\n",
        "H = np.array([[10,12],[12,20]])"
      ]
    },
    {
      "cell_type": "code",
      "source": [
        "x,error_history=gradient(fun, g, H, np.array([1,1]))"
      ],
      "metadata": {
        "id": "Z3QKnej8-B6g"
      },
      "execution_count": 84,
      "outputs": []
    },
    {
      "cell_type": "code",
      "source": [
        "import matplotlib.pyplot as plt\n",
        "plt.plot(np.log(error_history))"
      ],
      "metadata": {
        "colab": {
          "base_uri": "https://localhost:8080/",
          "height": 282
        },
        "id": "otIIL6AqRWEC",
        "outputId": "eb6bd88c-256f-4c51-c8b7-d7d3bd44df9d"
      },
      "execution_count": 85,
      "outputs": [
        {
          "output_type": "execute_result",
          "data": {
            "text/plain": [
              "[<matplotlib.lines.Line2D at 0x7f302b80fb90>]"
            ]
          },
          "metadata": {},
          "execution_count": 85
        },
        {
          "output_type": "display_data",
          "data": {
            "text/plain": [
              "<Figure size 432x288 with 1 Axes>"
            ],
            "image/png": "[encoded data removed]"
          },
          "metadata": {
            "needs_background": "light"
          }
        }
      ]
    },
    {
      "cell_type": "code",
      "source": [],
      "metadata": {
        "id": "1Xq3-5PlSuI0"
      },
      "execution_count": null,
      "outputs": []
    }
  ]
}