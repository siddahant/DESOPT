{
  "nbformat": 4,
  "nbformat_minor": 0,
  "metadata": {
    "colab": {
      "name": "Optimization.ipynb",
      "provenance": [],
      "collapsed_sections": [],
      "authorship_tag": "ABX9TyP3ja+MWS7vd+xcDIjJea2+",
      "include_colab_link": true
    },
    "kernelspec": {
      "name": "python3",
      "display_name": "Python 3"
    },
    "language_info": {
      "name": "python"
    }
  },
  "cells": [
    {
      "cell_type": "markdown",
      "metadata": {
        "id": "view-in-github",
        "colab_type": "text"
      },
      "source": [
        "<a href=\"https://colab.research.google.com/github/siddahant/DESOPT/blob/main/Optimization.ipynb\" target=\"_parent\"><img src=\"https://colab.research.google.com/assets/colab-badge.svg\" alt=\"Open In Colab\"/></a>"
      ]
    },
    {
      "cell_type": "markdown",
      "source": [
        "\n",
        "\n",
        "```\n",
        "# Name: Siddahant Jain\n",
        "# Minimize Problem\n",
        "```\n",
        "![image.png](data:image/png;base64,iVBORw0KGgoAAAANSUhEUgAAAk0AAACsCAYAAABmfZhWAAAgAElEQVR4nOzdeXhM1xvA8e8skiAhqH0NaWIvta+ldkXtS2lLW1tr59eV0kXVrqWopbSltVO7ltpiKYrYorZsJJEQiUyWmczM+f2RlCSSmESWoe/neTyPzNzlvfecufedc86cq1FKKYQQQgghRLq0uR2AEEIIIcTTQJImIYQQQggbSNIkhBBCCGEDSZqEEEIIIWwgSZMQQgghhA0kaRJCCCGEsIEkTUIIIYQQNpCkSQghhBDCBpI0CSGEEELYQJImIYQQQggbSNIkhBBCCGEDSZqEEEIIIWygz+0AhMhNkefWsXzbdWJNYfiHFabj6LF09cyf22GJp0HkOdYt38b1WBNh/mEU7jiasV09kdqTS6Q87Ewk59YtZ9v1WExh/oQV7sjosV152i+vkjSJ/yzr7U3M2ezCiEkfUVRrJejX12jQZgimkz/Tu7g0wop0WG+zac5mXEZM4qOiWqxBv/JagzYMMZ3k597FpQk/p0l52BkrtzfNYbPLCCZ9VBStNYhfX2tAmyEmTv7cm6f58voUhy7SZ+Tyr1+ywCsitwPJXdYgds6cwfZAyyNvmU7uYOmcxey4B6ClVJfuNI7aycaDcTkeZoI4Lv/yBQuORObS/kVS1qDtTJ++jVSqDphOsmPpHBYnVB60pbrQvXEUOzceJHdqz7Nfd56u8oC4y7/wxYIjPLMlYg1i+/TpbEu9QDi5YylzFu8g4fJaii7dGxO1cyO5dnnNItmfNFmj8PW+zN3UzqttGyDK15vLmd9AGpt90rjsmZXg3z5ixq1XeKupa24Hk7u0pej4Tn1OTv6SwymuXk5tprBtz0x6FEn42xp5l3vmYpQulRsNsFaCNn/I9FudeKtJwVzY/3+TKfQyxw8f5Zx/BKYU72lLdWRglb1M+Pzwozc+pzZM2baHmQ8rD3fvmSlWulQuNN8/a3UnGv8bwZhTvPr0lAdYgzbz4fRbdHqrCc9EifjfIPjRAqHjwCrsnfD5I9dWcKLNlG3smdmDhBKxEnn3HuZipcmVy2tWUtnKogK+a6Pya/OrtgsDlCUzWwj4TrXJr1X52y5UAZnZQDbFZc8sN39Wr3f9SnkbczsS+xF18H+q88hd6l7aS6jDE15QFXv+pHzNORhYIkvASvVaFymzHGP2V79NeUcN+d80NX/BdPW/nrVVGY/O6tNdN1Xy4r+v/hz3ihqxK+2ao5RSUYcnqBcq9lQ/5ULleWbqTnyE8juxUU1/80VVotU36maqF2b7Lw9lCVArX+uivnr6C0RF+J1QG6e/qV4s0Up9k3qBqPt/jlOvjEjv2qqUijqsJrxQUfX8yVflQolkqWxOmpSKu/CzGjdwlFpxPi6zG1A/jxuoRq04rzK5heyJy27dV7uGNVFvb0n/ovKfY7mllnZvrj45nlp5m1XAuiGqTb9FytuQuc1Hnd6h9vll9nIQobYNbmQnZRalTu/YpzJ9KE+FeHV+7hD10e+hSb4wRagjH9VReV3qq89OJq8jlptLVLdmn6hUq45SyhywTg1p008tynzlUTv2+WXyZmJPdSfzzNfWqonDx6hP5/+qprR1Vg4tv0nzS7J9l4dSEdsGq0Zvb0k/ibB35mtq7cThasyn89WvU9oqZ4eW6pu0C0Qt6dYsjWurUsocoNYNaaP6LfJWmSwRu5LtSZPIWZZby9Srdcaog89aLpgF7q3rr2oO2qLuJ3vVooJ3TlbDPtulgsxKqXvnlfeNjF4uzcrnq/Zq4MbYTMVlCVisOr042j7KzOyjvmo/UGXyUJ4OxkNqfOteap5XSLJWZkvQQtU2r06VHLRVRSdbIVyt6VdDDdqSvOYopZQleKeaPOwztSuh8qjz3jcyfLM1+3yl2g/cqDJzyu2q7mSJaLWml0u6SZM9l4eyBKjFnV5Uo5+dAlHRa3opl/SSJqVU+Jp+qsYj11allCVY7Zw8TH22K0glXF69VYYvr3ZGBoI/U6yEbN2IT9321HfM7Vjsj2urdlQ6sIZdD/rfrYTtn8m00y8yclA1zEH+XNi0mh1BGR/opjIdlZXgrZu4UreDnZRZ5o/kqWEOJvDkBv43Zgk+SYpaW9iNcoXh7o3rhFmTrlCI1u3c2b9mV7KxNNaw/cycdpoXRw6imjkI/wubWL0jiAzXnkyfcnurOznFXssDrMFb2XSlLh3+WwVCodbtcN+f9NoKWMPYP3Map18cyaBqZoL8L7Bp9Q4ycXm1K+kMyYrBa+4oFhwO4W5UNcZsGkPBzWs5Ga6I8r1MVO1hfDrwBcxnN7HWKxRzrD8X/IvT55PRtCypA8B8dimjZ+4m8E4kJQf8wKLXy6GN8WLuqAUcDrlLVLUxbBpTkM1rTxKuYgi4HE6Vtyfydv1CCSPUzWdZOnomuwPvEFlyAD8sep1y2myKCxN/LRrH8rNaipQtTwlXR3RAXOhVroZXYsC0UTRzAbBw22sp3267S/Eyjty9fo24moP5cGAdCiWmoIazPzFzs4VOY96kXqGczEvvs3/vWTxfqYdTqu+bCfxzBevPRWMMCcO163gGlz3DynWXiLWEE12+Dx/2qpyD8abPHPgnK9afI9oYQphrV8YPLsuZleu4FGshPLo8fcb2onJGrk0F61G3xBcc/NtI75cdMZ+fS+8eH3PgnpVvJyYsonFqx2L/nBypGMn+fefw7Jxema1kw3kDsUGhFO42gXfKnmHl+kvExocTU7EfH/TwyMF40/OUxJqvI5NWLKJziVepokvyesxtwu4r8hUtjmuKj61r/TqUmHqQv429edkRMJ9nbu8efHzgHtaHlYd2i/1zcODxs1R3MsY+ywMi9+/jnGdn6qVeIJgD/2TlhvMYYoMILdyNCe+U5czK9VyKjSc8piL9xvbAwyEHA84qrvWpU2Lqg2srmDk/tzc9Pj7APeu3JJSIBqd2i8nRy2t2SK8ZymKMUFeXdFNFnVqp0XNnqA1XExosLSE/qm5FK6i35y9RX684m9gkd1/tHFxBFX5lycNmVUu8irqxUvUq4agaTvsnsZnUoowRV9WSbkWVU6vRau6MDSphsxYV8mM39VzpN9WWiAcRqPioG2plrxLKseE09Y85G+Oy3FaLOtdXY/eGPGjOtdzeqt5xz6+qjPxDhSfGE7x5sKrq+abaGJy4MeNFNbNlBdVuweXE9Yzq0Bh3pdcWVW/+lsN9HMa/1Ac1q6hxXqkNQLSo0N1fq8lrrymjUsriP1e1fL69GvjBEnUxNlyt719C5fEcn7PxpsMSult9PXmtupYQrJrb8nnVfuAHasnFWBW+vr8qkcdTjT+S0YGWsWpj/xKq2ayMN9mnz6wuZbZ7znhcvV8jvTKbrqasu55QZn5zVEuPDmrQh8vUpdg7ak3fYipP1Q+eNPjkzJcy2T2XC7FmKYsKWdlVueYpr97elspolNiN6rXizdSsbOhbMF/KZHeQvdWdLGFL95yyz/JQRnX8/RqqyjgvlWqJhO5W06esU9cTCkTNaemhOgz6UC27FKvurOmriuWpqj74y/4Gj9vSPadUrNr4WvFsuLban3SbQbQOBSlXw50iljP4FexPN/eE9Fn7XD3quN3il9V36DTgBVwAcKFh/SrE/n2cc//+dlerx7lsVdyfS7obLQ4Fy1HDvQiWM34U7N+NhM1qea5eHSqGn+L4Pw82gN65LFXdn0s2N0K2xKXuYqg2kLEti6MDsAayZuS7rC04luXTWlMIIOp3Jo/9heLDp9C1ROK6DlV5a1BtTsxbxBETgANNJm9j7959zH4lja8b2cXsh19QEUqU0D36nvEvlh4ozdCelXAA0Ggg8DTm+n2p6pSfWn0+YcHC0Tkbb5qM/LX0AKWH9qRSQrBoCOS0uT59qzqRv1YfPlmwkNENMvqVTEuJEoW57e//yM+Zc43ZP90yW3awNEN6VEwoM60WAs5ibdiHKk4u1Oo3kQULRuZ0xKl7mmJNjcGLGTMPUGbYIqZ1TGWaDm0JSha+jb+/3dScZ6fuZIY9lgdm/P2CKFKiBI+WiJG/lh2k9JAeVEwoELQEcNbakD5VnHCp1Y+JCxYwss7T2MwEoKVESTu7tmYTmxrKNLqy1KxdLEni4oijg44iVV/EPckWHB0dUHGxxCYbD6BBk/pW0ZWtSe1iSRIXR0ccVBwxKSa/0qS+gSyOKy/VmzemZEK/IFe+H8rY3ysy8cBEGiVO+x53aD3bbpXmtXqlkiVxBSpXplTQMc7cttK8rBata2Veapl6zNnKZMBgyouzcyonzJSftm/0TDw+iD15iguOjRnYIiG1dO88Avcki1vjQrl84BfmbtQzdtEIqj6mplgCvViz+yJRFhsGBGg0OJRuQq9O1RMT20eCJX/bN+j5MFhOXXCk8cAWCcu7d2ZEkmAfPgolFP+wInQcNZaulVObq1+Lc/68GMIiMzlswcrdszvY5X0Xc7INKEK9g7kRuoqV95OfKI3GiQrNu/OSWxoXQ1MUhvi0y6zN6z2Sl5lTQ95q7gyAZ5eReD5YOIOPLLDe5eyOXXjfNSc/FyoU7+AbhK5aSfJD0aBxqkDz7i+R6qFkMFbvLes4FemEPvoa525WYsAHb1A7nQltMly/yjSj9ytVcX780mANYev4UfxRbxFb53SgaGpfJbXO5M9nICzyCUav3T3Ljl3e3E1eeVCh3gTfCGXVyvvJL8gaDU4VmtP3JbfUN5hldSepCPZNeIM9ndYzo0Xafd/ZWh62sMfywESUIZ68zs6p3PNM5G/zOj2SXdOcaPhW84Rz4tmFkZ4Plz02fSDfBlSgatkCWMN9CSr+OrPGN03jeglYAvFas5uLURYbrm0aNA5laNb7FapmXYHgnD/fE1xbnx429i464ODwaDVwcHRKpXIo20+agwOPblahbN9A1sWlq0D7Dgn/NZ6dydsf/03daYcZ98K/Fw4rEf4B3FVmfPctZ/G5pHsox8h5jWhSOJfH1VutWNM6Spea1K3y7x8mznidILrWMJqnNvdl9N+sW3YGvf4U+46X4R1rKsukZI7FYDBgsPUiGmPEYiWN6VVdqPkwWExnvDgRXYthqQSb+qNQBmM8tYo+qc3VryHtLNwG5rhoDAbDI0lTtMmMOdaAwZAyaYon2pjOCbSqtGtmqmX2Ls0eSS4y88gCM3HRBgyGlElTNCazmViDAUPKpCk+mjQPxeZYwbhvIoMXP8+y7YOpqY/g116V6DK+MD7LOqV9U81w/TLZOADYwKlZQ5inn8z2hd0ol0qjzYPN8kRVB8xxRBsMGFLepKNNmBOPL+VNOj7amPb2sqTuJNsg4fvmMvkXb6q3e9yxZFd52M7uygMrSqU1jjz1a9q7qRaI4n54OBFB9/kruChVXh7Ax4PTSZgSDibhM2uwNWmKwWR3BfJ0eNqHZGU9wxE+e3savm0XcWyIB3rAdGwjO0p0pW2RQuTV5MWz/WCG1bPDU+fkgnOeOKKjH/OxsfjidSwQ99bNKZPaDTV/HfqOroPp4Dk+sfEzoHNrw9CxbTIc8uNZ8PU6RqB7a5qnEmzCo1Du4DaiAwOLJD4K5d2hbDoYR5/e+VIsbSUmJo58zi5ptH4+jpbiDfsyrOGjMfpE7STAcxgjumewSzaDZfZ86+aUfuQ0JD6y4I4bIzoMpEjiIwveHbqRg3G9eeQ0AGiL07DvMB49FB+idgbgOWwEGT0U22IFXYl6tHhBSx4AHMiXLw9xscZ0yyR76peZ6z+PY2bUKH6d3zoxuTRy/YIfJaqneNCrNYaYuPy4FMj8TUFbvCF9H608WHyi2BngybAR3dMY0J2GLKk7D1nD9vHzRXdaVdRz+zG7zr7Pu43ssTxwwsU5D3HR0Y9JXBKvac+3pnkaBaIr2pZJX4yjsa29dTo32gwdS+6VSMK1Nb9LgUxeW58eMuVAUtZwdn/wNt9G9mbh/H6U1QJYuHnSmxCdhrzNO/CScyDnz98j5Rfue0f3cDS3H/OmL0v54ncJDk7tK4QZc2Jns/XOIQ5dLES9htUSs2Yrwas/59vz9tMbbX4YLIcOXaRQvYZUS8xTrcGr+fzb85jJ6KNQrISE3KNkhfL2821BX5byJWwss0uFqde4SpIy+4qFl8zYxyMLbI0V9NXeYMb0AVTRQ8ylFfxwuhafvN8ph59Gb+X27i+YGfgaCz9r/bA1zuTN+s0XU1k8hJB7JalQ3m5qThbVnUTWUPasukq9NxqQ/2m469ljeaCnbPkS3A0OTrVVLfk17RKF6zWmSpJr2lcLLyUZDxSL7+8/suT7RSxedYiAlM/4sTt2eG3NJo9PmiwWLFixJGuGNWOxgMWSvCnQYrGAStFBZLVgtoCyJk8zLBYLWC0k36wFCwqVrH/OiiVhA8kTlSyPy0rQxtEM+zEPQ5bMosu/Y63M1/jtjwBci2jRlnyNzz6szenvv+N0TJJtRZ9i+caruDoDWLi2tBdVq3RmnncOJyEOlanhcY9rVw0p3ohk+/AqPFdvEqfMFvy3/M5FfUnKlE2s3pFHWXXVg27V7KO6R24fTpXn6jHplBmL/xZ+v6inZJmyiR/GSI6uuopHt8SEz7EsdRp6JDZdGzg693uutfuYkY1S+YpmucVVvzx4ViudykDNXOJQmRrP3+Pa1egUbyQvM7/Ne7ioK0GZMollFOHFquvP07Vywt+OZevQ0COxAd9wlLnfX6f9xFGkdhqyXsZiBcDiz59Lp/HJlN/I03koHT1zdl4bw4npvDPDl+J5TrFizixmzZrFrFkz+PLjqfxlrUjKaCy3ruLnWJnqpeym5mRZ3QErwTtXEdD4TRq75Pb3aIXFYgWLOd3uPLssDxyoXON57l27yiMlkvSa5reZPRd1lChTJvGaFoHXqus837Vy4t8anB0MGEq/yjtDh9LVaQW9+6/AL5fmN1IWC1YS7pdpstziqp8jlauXsp9razZJf56m+eNZvHEPt9Rdfhn3Dnd7j+Dr+heY9M1advkowoImM8jqzZCpXbjzzTRWbz8BRh0zXx/MP29+yvtFtzJ24UZ+D1TcXTWGwebhfDa2CFveX8zGPbdQd39h3Dt36T3ia+pfmMQ3a3fho0IJ+nQQ8d2G8PW7jqweu5CNvwei7q5izGAzwz8bS5Et72d9XMPNfDT6V8I9+1PgxGK+PqGIj77N5f0b2HKzC78l3KGpNWETG/JOYHL/UbTq04ZKZl/OXIjlxVHjHwyWNpviiIm+T0x6Y1myRUGaNqvM1BOnMQ5sneTCrydvPlfc65Th5i+z2ZlnHGsnz+HrH39hR1Mj586aaPTe8MSWtdynz5sPV/c6lLn5C7N35mHc2snM+fpHftnRFOO5s5gavcfwR4K1ELh+HJ/fGsbmH9/ELbVPruEkp241oFsje5p4LrHMTp7GOLBVGmU2ix0O41nz6Wym//grO5rEce6smSYjhlLqkdMQyPrxn3Nr2GZWvl4hhy5gmYhVV56XB3/Ey4NHsn9UXV5+LQKv9YOokBMBx+3hf70ns8M/nu37U7yncabbTz89cmE0nDxFcMOeNLSnqpNFdcd6axu/BDdneKf8ZPnAI1tF7GfuxLX43PfjyAELmviFDOx/icqFy9B2wiS6p/hA22d5QMGmzag89SSnjQNplSS2pNe0WTscGL/mU2ZP/5FfdzQh7txZzE1GMPTBB8SBhqOmPeg6L9GxM+7vfci8I/2Z1zynfl0Xwf65E1nrcx+/IwewaOJZOLA/lyoXpkzbCUzpnmIwvOEkp4Ib0tPeCiQ75PacB0+vOBX6z1l19tqdVOfkyC0W3/mq7Yvj1aNTt8Sp0H/OqHN+EQ/m0TBH+KoLl4JSPDLiIeOBkcqjxgfqeC4cYFzoP+rMOT8V8TBY5XvhkgpKNdgUj0KJuKDOpTJ/y/0tg9QL/depu1ke7RPM06QSy6zOBPXotFOplNm9G+qCT3DqZZYVjyzI9DxNtsZqVD7rv1aztj2czyV6XV/l6thSfZvGA0Fz3321ZVBt9cbG7HmaWObnBcqKuhOvTs0eqt79fJqaNm2amvbVeNW+XGHVaPBUNXvzJRWfiZiyn/2Wh7L4qvlt66gJqcwh9+g17Z66ccFHBaf4MMefnqN6vPL5w2t43C41uHQB1eOXtK7Uue/+lkGq9hsbn+7n7dlIkqZnjeWO2vhmYzVsV9QTbypu/0jlUf39XEmabGdRoX9+rUZ9+Zu6GBCgAgL81PkfPlJfpcwaLSHqp95N1ITD2TPhaMTRdWrrtUxO62a5ozYObKKG736CMrOEqj+/HqW+/O2iCggIUAF+59XyD79KJXl+nAh1dN1WldlDebxQtbRzaVX7g72JN2+LClrQSuUtPkBtjHjMqrnEEvKT6tPsA3U0ux4nFnFUrdt6LXOTAmZF3UnKeFiN9Syvhuy232en2XV5KIu6s3GgajJ8t8psiRiPT1I9h/+mAv6dzPnmd6pN0ZfVN9n3oXwylhD1U59m6oNsKxD7IknTM8h8Y4nq02PegxnUMyz+ktoyb7r6tP+LqtBz9dTAKTPU/O1XszTGrBJ/bpZqUUirSPilrwKUxqmd+v528laL2GOfqE5vb1S37bQxw3zje9Wn57fqaqbKLF6dm9VCFdKS5DxolFO77+3yeCOOfa8+/WKxWrfvL3Xyj/mqf+NmatTGzD9VPnvFqmMTO6vBW+4oOzyVSqknrTtJtuP3h1r0+SBVv4irenHAFPXNtn/ssEzsvzyU+Yb6vk9P9W1mC8RyW+2d/6ma8cMO5XVgnZr6Zjc1/GcfZa8pSeyxiarz4C3qjt0WSNbSKGX7rEjiaWHBf81ovrz3Ht8Nr8LTOsdsljEcZ+qIzdSZOY32qc5caA8s+P0yiqn3R/LdsMrPfpmZQrn893lumoviWbs6ZZ3ts1wMx6cycksdZnzVPvVJL+3Cf6fuPB3lARa/Xxg19T4jvxtG5UwViInwK6fxDs6DW61aVChop8OrDceZOnILdWZ8ZcfX1qwlSdMzy8DZZdM56Dme0c1Sm8HyP8IaxI7pSzH0+og+7vZ+OzFwZul0DledwKgm6c5CKHKANWgH05ca6PVRH+y+6vwH6s7TVR5gOLOU6YerMmFUE57JEnmqrq1ZR5ImIYQQQggb/Dfa04QQQgghnpAkTUIIIYQQNpCkSQghhBDCBpI0CSGEEELYQJImIYQQQggbSNIkhBBCCGEDSZqEEEIIIWwgSZMQQgghhA0kaRJCCCGEsIEkTUIIIYQQNsiRpMl6eweT+7zCy03rU3/UVuJsXM94y5u//QzZGpvIXaZ7vnh7HcDL25dwU25Hk8Vigjjn9ScHT/kRZc3tYIQQQjypHEmatMVf4bOfv6N7Ph8u3LyPTfcPszdfda5H/TpD2JAteVM0vteDsGRmTd/rBGVmRfGQ6TobPh/FJ9/9ztX7sYQcmErnF1sycrWPzUm1/TJyfd1Yer41l4N39Gj81zOm5zss9ZYvAEII8TTT59ieHErgVtYZ7T0bl9dXpPPwd7kV0IJ6ebMhHtN5Viy9xv++HoBLxlbk/IqlXPvf1wzI2IrPJMPf2zlepAOtK+gysJaFa4vG833sSH6e2ooSWoA2VLnfiNrvvM5z1Y4zuVbOVc2sZjwzg9enRDPxryV0dAFoTv3SH9JkwMdUPPwtrVxzO0IhhBCZkcNjmjQZWNaFuoPnseyLrpTPyP3YRtaQvznjl4nmImsIf5/xy1QL1bPHws3fv2P16fgMrhfP5XN/8efsj/nhn3/PpB43DzfyGi9w/OT9rA40B0WyffYibjbtTqskSbXTi91po1Yxe31Q7oUmhBDiifxHB4JHc2Lxcg7HqIyveWIxyw/HkPE1n02ZOw9OtP98E5u3Lme4578ZsZXQW7eJ05XBw9M56wLMacZj7Dlwj/IeHsmbcR3ccCsTy9Hd+3MrMiGEEE8o/T4Q8y32LfmR09bnKJRXiyUujqjr56HvfCZUO87s9+Zz+HY4kaX688OSt3DTmTm7dCRf7wrgzr28dJi1hvF1UuxCWbjt9SO/nYxElyeee7fj8ew1jF41XR9mcGYffv7fl2y5dodwgyfvbfyWnoX/fdNCiNcS5u+IpFRZJ8KvXyG62tt8MLAOhR5sIIZrW+ez+HAMRQo7EG+yUqBGd97pXg0nnw18NnUGS9aeJbrMT4wefAQdOkq1/4BPe7iRZqOW2YcNn01lxpK1nI0uw0+jB3NEB7pS7fng0x64Ja5o8NnE4nX/oC/sjNYSw73YkrwydAB1CyfJTw1/s2L6FiydxvJWg8JZmrma/f9g6Vpvoo0hhBXqzvtDynJm5VrOx1iIMJSjz4R+VHXKwh1mkr50I7qUTvKC+TJrN52laKc5jGrikPQN/P9YylrvaIwhYRTq/j5Dyp5h5drzxFgiMJTrw8R+VXM6/DRZb1/mSpjCxdU1RV1yoVjR/MScvZRLkQkhhHhiKk1mdXluF9Vzsb+y/PuSJUSte6OZGrU/LuHPOH+1vGth5VDvC3XR/O8ycSrot3dUJYeKauQBY5Ltxartb5VUedzaqI/X/qNiE1+Nu7ZMdatUS43YFvJwP0opFR+l/vmuo3J1aqMWhvz7jkUFbx6sqlUepDb/+1q8j5rzcgXVbsFlZU7cz5nZrVX5+h+qQ3cTl7GEqt/Hd1BDNt55EMuWN4qqvJ1XqPtpn4BUxW55QxXN21mtSGXF+15TVIsGg9VvQQ+P5P6xT9XLjUaobSEPXzMeGqOe12tV0Td/e3AesoLl9k419dM16ppRKWXxV3Nfdlft3vxALbkYq8LXv6aK5/FUE44YH7sd25nVpa/aq4EbM3sUFnXP97Q6tH2VmjGsm+o+brW6GJ38/ds7p6pP11xTCYc0V73s3k69+cESdTE2XK1/rbjK4znhiY4gNui8OnbES3l52fbvyNGT6to9S5rbiz/1iaqRx1F1fqSCxKptg0oofenBTxSvEEKI3JNOS5ORM0f/JqqF9WEXjLY4Hbu24KI2YWyS1rEElSs9h/ZWktW0jmCbp2EAACAASURBVBSr7klJ7Z+pblVX/hWG9vTg38YOx0oDmfXuT9R89yPaNPmBLoUS39A7U6G6O0U0Pg9XjvqdyWN+odi4i3Qpntg+o6/MwEG1+eKzRRwZPI8m175hxOR/aPXrBpr927oTsZVvFu7FV38NuhfJQEqZAcZjTB02D8f3LtKp5MO2I5eG43ivUhXe+7gNTZd3wRVwaDKFrXu7YK7RnKxr9DFybMkByg6bRiUHwKpBYw3kjKU+66s64ejQl4kL3ubVBg6P3VLOMXM/NIRIswOFy5VAd/oUJ652puoLiYOBjMdYcqAsw6ZVIuGQNFgDz2Cpv56qTo449J3IgrdffYL9Wwg+8Rtr94VgtrGfUaNxolq/ylRqlHoXotVkJF5p0OlStllq0Gq1EJ/R8V9CCCHsRTpJkyN1m1fl3fFNaXqkH11bNKRhsxY06fIpEzUPV9NqMzhK28ERp2T9UTrKNW9GxQ8Xsvr3uXTpUzDJe5pkQ8fjDq1na1Bp+tctmaxLy8WzMqWDjnHmtolC69dzQluPd19Ksp3Cb/LD6QbElq2esVgzwHj4Z369Uop+tZ9L0d3mTK0XKhHy1Sp2z+lC34KAtiCVX2qZxRGYKNB+EL3+TdhiT3LqohONB7VI+HWge2dGuCdZ3BrHbZ99rJq9iTzjv2dUtfR6aq3cPbuDXd53UyQXilDvYG6ErmLl/eTrazSOlG/enRZujuls14Fy9TtQDuDV7rT4pg21X3qZa9v+5MtmLmAqQPtBvXh4SKe46NSYQS0Skir3ziN4eEhWIs6uZ/n268TFh+EX4kqHMePpXiW98VE63F79hLlPknc9skk9OhQWa8qJNRRWqwX02fCrBiGEEDkinTulDvd3V7MzzxSmfLeaL9bOJoaCVO/zFSu+H06dLByrqy1ahMIaA37Xg4CCaSxlJcI/gHBlxnffchafS5pOlWPEvEY0KWzl+o0AlEsdiiRrUNFTrHL2JUxgJeLqNUJUPvI7p7wp6nBxyYfGcIMrgWYomF0/pXehRt3KD/4ynfHiRHQthjVP7fft0fy9bhln9HrOHDhBmaGPnznLHBeNwWB4JGmKNpkxxxowGFImTfHEGDMyTFyHW5+e1H9/BHOnrOSdP0ZSwaUGDw/JxBmvE0TXGkZqh2QN2cycLQUY/enHFNFaCV7Tn/pthxB/chV9SuTc7x10rq4U0EC8yQgk/5CYTPFoChROfUUhhBB2L507uJlr54KpMvQ7dg/9DtPdfzi2bRmffTyBYXObcnJSjbRXVVbbJrD8d3GjCZPSUbBQoXSW0uJSpBB5NXnxaDeYYfVTC93E3YIuaOJiyNgP48x479xLgXbtHwzotnlN753sLdCOJgVccCSEuNiUO7YSG2tCaVwoWCCnbt4WfA8fI9C9Nc3LpLbP/NTpO5o6poOc+8SWaSC0FG/Yl2ENH92PT9ROAjyHMaK77R2N1vA9TH5tCqcaTWf95OYPUguta0lKumgw/nOOy/FQIWkjlcWXw8cCcW/dnNQOyXRqJ8vm3qHiyA4MLKKlZOduNB4+lE2H4ujTO18akVgI+GMhPxwOxWJz95wjnt3G0r92/lTf15WuRAUXxbXQUCwUSTIYPIqwsGj0bs/btiMhhBB2J52kKZaj38zCYc5P9C0EDkU8eWngTNbrb/DClvNADUCLU15HNCluOJagIELTypqUQllJNtlBnI8Pvo71GP9y0XSDzdu8Ay857+bC+XCs9Ysl6wa7d2QPPtXa8WKblyj6/WnO+JjpVjvp4Rk4ediHes3qAaDVaUGpxOTOjP/FS5Rt2z7d/SeuiJbEYwDM/he5VLYtbZu3pUn+A1y7Hg11k7aWxXPtqh/6F97m5VLZmzSZzWb0ej1Ywzh4+CKF6k3k3143a/Bqpm54gY9GVs/BGU1TZw08yo4/TxCQ359oKzj/e1piI4mMVWgrlKOsDsCM2awn4ZAOcvhiIepNrJYYv5Xg1VPZ8MJHjKyux6nN52zbE41H4pA1a+Qd7pmLUb1Uekero7B7fZpa72VgTJMjpUqlkyDmbUzLhvk45OdHPFUeJk0mX3xv6an9xku27UgIIYTdSfcubg3/neWrriSbyFFDHtyrej5YvXjJYuijIol4sFA0fx38G4OKJz4+5Z1Ig+PNcxy9kySjMl9hxcK9lB4xlaGe6TfzaEu+xmcfvsjpJd9xOibJG9GnWL7pKq7O4NLxQya1us3P87YSkmQ3psu/sN3n39kG9bhVKIMm+CY3zYAliCDrc5S2IafRu1WgjCaYmwkrEhRk5bnSWrRlX+ezsZ4cXbqCy+aHy1uDNrN0tzNvffHugwTGcm0pvapWofM8b8yp7iXjIrcPp8pz9Zh0yozFbwu/X9RTskzZxAQjkqOrr+PRvWquJ0wA+iqd6NpjDKuX9qf4g3NuJWjrVo6bitBu2OtU1keyfXgVnqs3iVNmC35bfueiviRlyiYeQeRRVl/3oHvVxL8dS1OnoUfi7O4GjsxZwrX2ExnVKP2B785uDWjdrj3t29v2r127ltQonk491Zai57s9cTq4Da/ohy+bLm3nj4h2DOvvnva6Qggh7JpuypQpU1J/Kx7vLZsJdYzD++xNomPu8s/BX1h6vCyjJnanfF4NoMHleTfMvy9jU6AzrqarHNmxm1APD+5s2MLe02f4J7okLzV2wwkzV/84SsVPRuG8ZRVHb0Vx78Yhfp6+iPP1prHy0xYUSdFTZPHfzcJVYTQaM4B6zhpAT4lGXWhs3MDns/dxGzOhZ/ewZsMVqo8YRdPCWtAWoW6nFjju+ZLPN/pitkRy1es3Np0vzxvvNiXhB3VanqvuRtT679h01wXr2b1E1n6TVhUf/7wW7XPVcYtaz3eb7uJiPcveyNq82aoieclD6WZdqHdnNdOW/0VQVDg3Dq9j/uJjVPhwBV91LPGg1UGFHmfViv3cr9mD15uVTntuqAywBO5nzenCtKh1n/1/aOj7YSMubziEySWGExs3E9zwPd6s4Zx8TnaLP7sW7SJPtyG0LpOZKBR3vH7hyHN96VolA+mYrjQNq99h6cffceSeFidtNL57v2XU5L2UHrWKlWNq46KxELh/DacLt6DW/f38oenLh40us+GQCZeYE2zcHEzD996khnPK7kULAetGMv5kF1b88Dae6Y1DzyZ53ZtR6/5KvlxjomaTyuTz/41JEzZTaeoyxtUpkKF58YUQQtgPjVIqjY4JKxF3I3AuUhjCr3P+ajh5SnpQpVzBVG7yJsJv+HAtTEvp6jUo7RjKlUt30BcpStGiRXBxSNmEYyEy4DL+cUXx8CiW5s/uTYfGUK39Jcb57mZ48ZTbMBJ25TJBujJUqVSEVNsTjHe5dvkmlPLEvWgqe7EauOVzg+hinngUzcjd1Yrhlg83oovh6VGUR9c0cvfaNe64uPF88Xw5Nu26MewKPiGOuFUtT0EdYInE73IwTm6VKZHasB7TQUbVGEm+n07xdaamIrDgM60TMzw3syIDY5oesEZw/fgRTlwMJK6IJ3UaNqBmqaSBGgm74kOIoxtVyyfUO0ukH5eDnXCrXIJHD8lKyK7PmXKiIZMntqek4SLnwytTI6MD1bJITLA3h/efIECVoUGbttQsJr+cE0KIp1k6SVPusNy9zIX7panh5kL83uF49LjNlzc38bo8HDfrGQ8wquZI8v70N9MzOX9T5LH1HCranc7uuZ0QWAnbP5Mvj1Zh6Bu1ccFK5N7v2eYxhY+a2NPcVEIIIZ5W9jDEJYk4to5pQu993dhyYwk1fa5ibtaHl1L/oZLINDM+v33HttMnORIWgm7xNGaerEu34a+Q0dynYKNedM6eIDPEfH4uvXt8zIF7Vr6dmPCaxqkdi/3trIoLIYR4atlZS5OV0D2TGfq9geYvF+LC0Xt0+HImPSvKjU8IIYQQucvOkqZ/WTAaFY6OkiwJIYQQwj7YadIkhBBCCGFfcu75EkIIIYQQTzFJmoQQQgghbCBJkxBCCCGEDSRpEkIIIYSwgSRNQgghhBA2kKRJCCGEEMIGkjQJIYQQQthAkiYhhBBCCBtI0iSEEEIIYQNJmoSwUVzIBbz2H+Lv63cx5nYwWS0miHNef3LwlB9R1twORggh7JMkTUI8jtmfLVMGM/ab3Vy4coqNE9vh7vEKk3YGYsnt2J6YkevrxtDzrbkcvKNH47+eMT3fYam3IbcDE0IIuyPPnhNPwMDf249TpENrKuhyO5bsYub83PdYW/MrPm9VJPFbRhTHJ7ak1Tda3v/zMJPrOeZyjJlnPPMFLfsHMvGvJXR0SXgt7viHNBkcw4zD39LKNXfjE0IIeyItTSLzLDf5/bvVnI7P7UCykekoK3feo6iTOcmLLtQf8Q5NLaf5ftHvxORacE8qku2zF3GzaXdauTx81enFbrRRq5i7IRjpqRNCiIckaRJP4D/QSGkO4ebJDfxvzBJ8kvTFaQtVoFxhuHvjOmFPa2ZhPMaeA/co7+GBPunr+gqULxXDkT0Hic6t2IQQwg7pH7+IeHqY8f9jGevOGYgNDqVw9w8YUvYMK9eeJ8YSQYxbPz7uXTm3g0z0lMSa7xU+XbGYLiVfpUrSLsiY24TdV+QrWhzXB189npJjSmS9fZkrYQoXV1eS9a5qXSj6XF6ifXy4boZacpUQQghAkqZniJXQXTP5IaoPn4yviN5/Hq3bDuDv7j15f/IbeA+syhs/Gfm499e5HShPV6z5qdZtCNWSvWbl9m+bORhXlh5vdqBg4mvZfUxxwRc46xuJxcYGPo3WkRJVXqSia+oNytawO4QrKKDPk+IdLXq9HhUexh0LcpUQQohEcjl8VhiPsfRgWYZ9VREHwKrVoAK8UQ3XU8XJAe1rE/muQPfcjjLB0xRraqIOM33mAcoM+5VpHRNHSmf7MVkIPvEba/eFYLY1adI4Ua1fZYY2ck71favJSLzSoNM9Oopfq9OC2YTpCSIWQohnjSRNzwpTAdoN7EnJxEaF2JOnuOjUkLebJ9wwPbuMxPPBwhGc2biWvw350BuucTbQjdc/Gkidgmls23qXszt24X3XnHwUkwrFO/gGoatWcj9ZTdKgcapA8+4v4ebwpLEmEbGPCW/sodP6GbRI5wdrloCDrN5xgfu2NMloNDiUfYnXulQn9dQiBWsIWyeMZm/9xWyd04Gi/zbiZOSYTEf5+s1v8S9XmTIuVu76hVB64GzGN3VJubckdLi9+glzX7UlSBvp9OhQWKyPDsqyWqyg1fHM/ihSCCEyQZKmZ4VLDeo+GC5j4ozXCaJrvUuzVBIh495PGLLUg+Xbh1JTH8GvvSrRdfxz+CzrlEbiYCYu2oDBkDJpisZkNhNrMGBImTTFR2NMa4B0BmJ9wBrOvrmT+cW7Ou3SWQwAi4nYuDjibEyarEazjfMtGTg1awjz9JPZvrAb5ZJmFBk5JhXFvYj73DacIvS5KrQc8AmD002YsofO1ZUCGog3GSFZyVsxmeLRFCiEqybHwxJCCLslSdOzyOLL4WOBPN+6OaVTGc6iK9WIVrU1JIxkcSBfvjzExRpJ8/6oLU7DvsNo+Mh+fIjaGYDnsBF0d8qeWBNYCdv3E5fcW1FRf/uxm9S5tWHo2DaZDCgtZq7/PJ5ZUaP4dX5rimsBjFy/4EeJ6p7kT7roY49JR9E2E/liXGNSa4hLnYWAPxbyw+FQ28c0aRzx7DaW/rXzp/q+rnQlKrgoroWGYqHIw1YlayRhd2LRV3DH3fYAhRDimSdJ0zPDjNmsR68Ha9hBDl8sTL1PqyQWsJXg1V+z5cUPGF5Fh77qAL6elrBWzKUV/HCmFp/83InUb625GyuA9fZuVl1rwKBWh1mXYzEmZeX27i+YdfM1vvvsJYo86JLzZv3mm4ys7pnhYyLWl99/vkRIrJW8ldvTq3m5xyRQOgq716ep9V4GxjQ5UqpUOtls3sa0bJiPQ35+xFPlYdJk9sX3Zh5efKs5MrelEEI8JEnTMyGS7cPrMuB4X/aenELhLXu4oC9BgzKJxRvhxWpfT/r3S9KfZPHnzx9+Ydsf+9G/MowOz+fUrNYZjNUazI7VgTQZ2hGX4MM5FGNyhhPTeWeGLy92OMmKOScTX7USF3KEv10+Y0JGj0njjIPhBmW6DKGTy202vvMq/a+vYc2gCumOIXJ2a0Brtyw8MG0per7bk+ljt3MkpgOt8iW8bDq3g72Gdozv7y5jmoQQIglJmp4JevLmc8W9Thlu/jKLHQ4TWPvpbKb/+Cs7mhg5722mycghDwYpA6Arz8uDP+LlwSPZP6ourfpH4LXhrRx4HEpGYrUS+Nsv3G75Hp3zkzvPeYvbw/96T2aHfzzb96d4T+NMt59+Qp/R8+/QkFHT/u3sLE6HTu68++E8jvSfR/Mc7g4r1GEGP5x5nc9Hr6Tw131xu72dzz7+izZLVtE/7f5SIYT4T5Jnzz0zjIRd8SHE0Y2q5QuiAywRvly+nY9KnsV52Elj4vKGOWx37MPYzm7ogJj1/Sj9+m0+v76XkRm5UVp8mNZpBp6bV2RwTJONsZr/Zu7IlRjKlyYPoO4cZNGKSNqP70nHbqPoWsWecn5bz7+ZM3P6MCl6HJsmNcEBMO4eQqU+4cwM3kC/fLkTfUywN4f3nyBAlaFB27bULCptTEIIkZI93XXEE3GkqEctiiZ5RefqRrVHBqVE4vXTAn6pWo93O7uRDyuRoWEYXUtT2jmDLQu6UrR4qzvFUs6NmFWx6uswdlGdB3+avEL5cUM0PcaPo53dPSPX1vNvxRShpVzdcoldX1bu3PDDVLcT9XPxmPKVfIF2r72QewEIIcRTQDdlypQpuR2EyEn5qeTmTPjNcCLNVmKvb+GL+edoOnUBo2u7ZvBhhE6UreZJ4WzvxbHgv3cJC3/ayv6zN4k1G3EoVRePIk9j95GOUtWK4PfbH/jEwv2zq5m9Vc/wOZ/Qoph8hxFCCHsm3XP/VaZQLv99npvmonjWrk7ZjLYyiSdjCufKaW+C87hRq1YFCkpvmBBC2D1JmoQQQgghbCDNC0IIIYQQNpCkSQghhBDCBpI0CSGEEELYQJImIYQQQggbSNIkhBBCCGEDSZqEEEIIIWwgSZMQQgghhA0kaRJCCCGEsIEkTUIIIYQQNpCkSYhMiAu5xPFDR/AOjMaa28EIIYTIEZI0CZERJl82TejDoNl7CcbC1V9H0XvoD5yPzu3AhBBCZDd59pwQNjPhPfVl+vl9xLGlr1AQgBiOvt+U4fGz8Z7bMpfjE0IIkZ2kpUkIW0VuZ9ZCf5r2aJ2YMAHko26Ptlh+nCXddEII8YyTpEkIGxmP7WZ/eAU8PPTJXneo6Ebp2CNID50QQjzb9I9fRDxNzIF/smL9OaKNIYS5dmX84LKcWbmOS7EWwqPL02dsLyo75naUicyB/LliPeeijYSEudJ1/GDKnlnJukuxWMKjKd9nLL3sJlgrty9fIUy54OqqS/6WSzGK5Y/huhlqySdKCCGeWXKJf4ZYw/Ywe3kkPT8eQyV9APNat6b/ie50/98UBlx6h6qvLSOq+avMauyQ26GCNYw9s5cT2fNjxlTSEzCvNa37n6B79/8xZcAl3qn6GsuimtNrVuNM7sDI7cvn8Y+0YNugPQ0ax6J41HTDNdX2Vythd8JRFECfJ+V7ecijV9yxIJ8oIYR4hskl/plh5K+lByg9dCqVHACrBg2BnDbXZ11VJxwd+vDJgrd4tYEdJEyA8a+lHCg9lKkJwaLRQOBpM/XXVcXJ0YE+nyzgrVcbZH4HliCOb1zNvhCz7UmTUzX6uQ+lkXNq71sxGeNRGh06XcpVtWh1YMp8tEIIIZ4CkjQ9M0zkb/sGPUsmNpPEnuTUBUcaD2yBC4B7Z0a4P1w68tw6lm+7TqwpFP+wInQcNZaulfOnvXlLIF5rdnMxypaWGw0ah9I06dWJ6i5pRJu/LW/0LJk4qC6Wk6cu4Nh4IC0SgqVzkmBNx6bz5jx/KlQvR0EVjl9QCQbMHEfTNLYNgM6NVz+Zy6uPjdV2Or0OlAVryhHfyorVAilzKSGEEM8WSZqeGS7UrFvlwV+mM16ciK7FsOaujyxpvb2JOZtdGDHpI4pqrQT9+hoN2gzGeGoVfYqn9dsAM7EGAwaDrUlTDEaLlbR+a+BSsy4PojWdwetENLWGNefRaEHdD+fe/WCi/gqhaJWXGfDR4PQTpmyhw9W1ABriMRmBZK1RJkzxGlw1OR2TEEKInCRJ0zPJgq/XMQLdW9O8zKNJi+nkDpbOuYPbiA4MLKKlVJfuNH53KJsOxtGnd77UN6lzo83QsbTJjmh9vTgW6E7r5mVST7F0RWk76QvGZWQsliWAPxb+wOHQjIxp8qTb2P7UTrXBTUfpShVwUdcIDbVAkSTtSlFhhEXrcbePnk8hhBDZRJKmZ4jZbEav14P1DocOXaRQvYlUSyxha/Bqvlxfk49H1cCpzRS27YnFo0jie5F3uWcuRvVSOVgdzGbMej16rNw5dIiLheox8WGwrP5yPTU/HkWNxJdifX/npwu3iLbmp1rH3jQv95gMRVcY9/pNsd7LwJgmx1KUckp7ibyNW9Iw3yH8/OKhysOkyeTryy197VRbyYQQQjw7JGl6RkRuH07dAcfpu/ckU4ps4feLekrWL5tYwJEcXXUVj779Ev52LEudhv+uaeDo3O+51u5jvm+UQ00lkdsZXncAx/vu5eSUImz5/SL6kvUpm1gbI4+u4qpHX/ol/q1xdsBwvTRdBneiQOhG3unan+tr1jCoQnqjiJxxa9AatywMW1uqJ+/2nM7YbV5Ed2hNQoOUiUvb/yCi3RgZ0ySEEM843ZQpU6bkdhDiyVkC97PmdGFa1LrP/j809P2wEZc3HMLkEsOJjZsJavAeA19wJvmwGwuB60cx/kRnlv/wTs7N32QJZP+a0xRuUYv7+/9A0/dDGl3ewCGTCzEnNrI5qAHvDXwB58RgdWUa0LpuSZw0oHGugDo0gcneDRjavnwOJyp5cW9Wi/srv2SNqSZNKufD/7dJTNhcianLxvG8iwxqEkKIZ5k8e+4ZYgy7gk+II25Vy1NQB1gi8bschKNbFUo+MlTJSsiuz/nsZEM+/aQ9JQ0XOR9emRpuOZSGGMO44hOCo1tVyicES6TfZYIc3aiSNFjzGeb2nYRh7CYmNXEAjOwd7kHPsK8J2tCPNEZgZbMYgr0Ps/9EAKpMA9q0rUkxaWYSQohnnnTPPUMci3pQq2iSF3QFqVCtYCpLWgnbP5Npp19k5KBqmIP8ubB3Nds9puRc0uRYFI/kwVKwQjUeidZq4p6mHHXLJsZlvcs13zhe7FCf3JsrPB8lX2jHay/kWgBCCCFygbQ0/QeZz8+mzUvvc+DewwmHNE7tWOy/kyHF7O1xhFZC/1zId3/np0HjSsQc/IHVga2ZNm+A/TwORgghxH+CJE3iqWAKv8Jp72DyuL1ArQquMuhaCCFEjpOkSQghhBDCBvbWFyOEEEIIYZckaRJCCCGEsIEkTUIIIYQQNpCkSQghhBDCBpI0CSGEEELYQJImIYQQQggbSNIkhBBCCGEDSZqEEEIIIWwgSZMQQgghhA0kaRJCCCGEsIEkTSKTovG/EYw5nSXiQi5x/NARvAOjsaaznEhbtP8NgtM/yVw6fogj3oFEZ+dJNhkxZePmbfP4Ovd0sBIeEEBkivKyRvrhFyafFCHsmSRNImPMkfif3MSMgc1pOGQ9t1O7xptusHFCbwbN3kswFq7+OoreQ3/gfHQWxmGNxGfrLMZ9uS31GOyKlUifrcwa9yXbbArWTKT/STbNGEjzhkNYn/pJ5sbGCfQeNJu9wWC5+iujeg/lhyw9yQmst36kR4XidFzgnzvJry117qkSx+6x1SlTrhYtu/Tmtf596NKyNpVbTeVkrDwKVAh7ps/tAMTTw3J9HVNmH0NbtQHa4CuEW0nlJmrCe+YbTIr8iGNLX6EgQPO6lHq/KQMmunFobsuE1zLLHMrJNfOZOX8LN917MubDZhS129TfTOjJNcyfOZ8tN93pOeZDmj0uWMt11k2ZzTFtVRpog7mS+knG5D2TNyZF8tGxpbyScJKpW+p9mg6YiNuhubR8opOcnLZgdbpNmId777I5/i3Ltjr39NEWcKdGRUXQhdPcfq4SDTp+wIYxvanpareVWQgBoITIsGi1ppeLcmj5jQqwpHgrYqMaUKqMGrwrLtnLxuPvq6qFOqllQSlXsHWXvmrfgpGqQ62aqvWwuWrnVUPmtpMjopXvvgVqZIdaqmbrYWruzqsqM9FGr+mlXBxaqm8ePclq44BSqszgXSrZWTYeV+9XLaQ6LQtSmTzLdiydOvfUiVZr/veh2h/3+CWFEPZFvtaILGU8tpv94RXw8EjeiKmvUIHSMV7sOZix7iNrxEU2TxvESw16Mj+gFhN3nuSPRWPo4J4/K8POGtYILm6exqCXGtBzfgC1Ju7k5B+LGNPBnSyN1niM3fvDqeDhkbypWF+BCqVj8NpzkKzvpBNCCCHdcyILWbl9+QphygVXV12yd7QuRXkubzQ+PteBWo/dkinkOL9+O5MF20Kp0mc0Cw4tp0ahzOf45sA/WbnhPIbYIEILd2PCO2U5s3I9l2LjCY+pSL+xPfBwyOTGTSEc//VbZi7YRmiVPoxecIjlNQplW1eW9fZlroQpXFxdSXaWtS4UfS4v0T4+XDdDrSf8dFtDDvHjmr8JDAzF7e0pvF7V8ck2KJJTUdw4dpDTwU4837ARNUrll0GmQtg5SZpEFrISdiccRQH0eVK8pdWj1yvCw+6kv4XQIyz+7HOWHIGmb/+PdX+1xi3fE0YVtoc5P9yn50ejqaj3Z27rtgw40Z0e/5vMa+cGUfX1lcS27MzX9TOYNVlDObL4Mz5PCJb/rfuL1k8arC27DbtDuIICj55k9Ho9KjyMOxae7NNtucaqZf9Qb8J71PiyHp2+qkePVd1J7+iMty9zjqX1xAAACQ9JREFU3j8Si41jmTUaR4p51qRCwf9eqqDun2Tl5wtp1rgFzV7QcerrroxlGCvm9qC87vHrCyFyhyRNIgtZMRnjURodukcu/Fp0WjCb0v/hujX8Bme9A9BV7EGDBjUo+8Q5iJG/lh2k9JAvqegAWLVoCeCstSHrqjjhoO3HxAVD6F4nE81M1nBunPUmQFeRHg0aUOPJg7VttyYj8UqD7tGTjDbhJD/x9ADGY78RUm8Y1R1CWHDMF+dqRR5zsbAQdHwjq/eFYLY5aXKiWj93hjZyfsJonzZ6nm/1NpU79qNWYr+tx6wv8H7xFQZ9W40/xlZG8iYh7JMkTc8wS6AXa3ZfJMqWr/4aDQ5lmtH7lao8yS1Mp9eBsmB95CdOVixW0KZyo09KX/l1lnj1wO/PFcyd0pF5qjEDx4/j7dZu6bZypM1E/jav06NkYmtG7ElOXXCi4VvNE47TswsjPZOvYbm8gmHTInlv+Zj0u7j0lXl9iRc9/P5kxdwpdJynaDxwPOPefvLWsXTp9OhQWB49yVgTTvIT33RNBVvRvWF+LDcWsfZEKbp+0Yj000odbq9+wtxXn3DH/wkO1OnVL8VLtWhaT8/cxcv4671ZNM5sV7EQIlv999rF/0vMsRgMBtv/xZiwPNEOdbi6FkBDPCZjiresJkzxGgoUcrVhO/mo8PJ7fLPzL3Z90ZCwZf1p3PwNvlh/jvAMB+hCzbpVcEr8y3TGixPRtXipWdq/ydcUqcorfdvhbuNXinwVXua9b3by164vaBi2jP6Nm/PGF+s5l/FgbaJzdaWABuIfPcmYTPFoChTCVfNk+3CpUQt3vZlLq9dw+v/t3X9MlHUcB/D3wYkiMAHDTMhAgTyniaVCEaxSWYo5OW26XVC6Fs4fJV2zDa0puWYMUstMtBR/4K9ctYnVloVixtTKtCWmGZcp6Kl4IsQBz3Of/mmSGdz37NTrer/+ZM89z+f73TPufd/v9/k+CZPxlKdTl9Sx1kuwX/r7WGAAIiJ6QGzf49BFf9hUgcg/caTJjwXGjUZu3uhbeUVE949FmPwMu10HeraPd7gun8eFZiNi4+M9OJ8RvYZZULDFgrnHd6Kk+EWMLAzFqOesmJOThmiP1yXrqPmqCr8ljEJ6dMe/FwKikjFhjKfnBoy9hsFSsAWWucexs6QYL44sROio52Cdk4M0z4vtUGB0f8SGCX6226GjZ/uokusyzl9ohjE2HvHeyDit36Js2zEMyd6IwW7/U+g49fkKrNlr92hN071ZebAM9cEnIW8aJ8qnD8SEj9Kw0bYNU65md4Gm6RAYYPiXgZeIbh6GJvKq4IceRUr3SthsbYCpPTRpNTU43eV+TEtXGWm6XmhiJqwlmZhduw8blhYhK2UBkix5sOaOw71hnX9W0zQYjUbAdQGVlUcROfxVmP688111ZVj80VDMnTEQRv1XfLbqA1QdOYFeuW9hZtINBp3QRGRaS5A5uxb7NixFUVYKFiRZkGfNxTh3xaoIfgiPpnRHpc2GNpjaQ5NWg5rTXXD/tHTcWC9fq+XrMmz/bQSen5KIwKZdKFoVjOfzUjuYpgtEZPwIPOy65MGapq7o06eb+wP9TEC3RDwxJxvJ18yDO1FXexEBiZMx/A5OABD5rNu9URT9FzVKmTlEgtKLpea6jQbrpfzZ/pIwY5c0Xf1bixzMHyLR5vVy2ksbE+r1P8j2RU/L2OmbpK6Tczp2TJf4Hkky/2CbaCfflYl9I+SBBUekTURELsmewoWy7YwuIrqc2bRYVh51yI5pcZLxzhnvbRCp18sP2xfJ02Ony6bOiv2bxjKzhASlS/H1nSz15c9K/4QZsqu9k6XlYL4MiTbL+qudrMlPK7MkMeFxKTrU4mHRmlS/niwhacVSo+tSu3WRvP2dp+fwps7uOYV2aidk9ZMmMY1fJofbOriEwjHaidXypMkk45cdln8+xH0tV74oEGvpL9d8Xj/1voyPukuySn/1w41JifwHR5pInaMCS+ZvRXWDDft26zC0rcAzlqMYEBmDjJdegTkuEEAExhSuwaHsArxQGonFU+Jwrnwh8vePxqqNFnQyK+aRgIhBmDivFBPdHGcM7o7w+AcQc3oTinYGwbrlVRS/sQ6bd6bCeeR7aKmzkNsnAIALgcMnYXLPXZhd0Q+Z8+/03oK/gAgMmjgPpe6KBQA4ULFkPrZWN8C2bzd0QxtWPGPB0QGRiMl4CQvMcQCAiDGFWHMoGwUvlCJy8RTEnSvHwvz9GL1qIyx/6WStuRFXLv+ET3YcgTVpmAdFB6Jv2mMY9IUdBzYvwY9XHkHe0NuwrknpnlNpp4ZWZyPq7Q44O1wypHCM1gpnYz3sDmeHr3NxV0voY7NhXpqPWQtHIOvxgQiy7cGG5ZthsH6A97L7cqEpkQ8ziAjfEEk3we+oO7wXFQdOQWKSkZFxH6Ju03PULeePo/psV8QNvAc9AgHoDtQcO4vguAHofc1Tbi6cXWtG8sfjsf/DHNxhMMLo499gv9cdxt6KAzglMUjOyMB9/9TJLZVY/l4QZs1MuYHzV+Nkc2+Y+kX4/lz+v2jnra/FBcexL/HJ7uNojjJhROqDGNz7/zdVSfRfw9BEPkZDk6MBTtVtEkLCEdbVS8nGVYuScamonPoNXmsowZ6RL2NqbOdJT2tyoMGpw321BhiCQhAe1vU2vPR2Nd76xoy8yT1v8ZVvLV9qpy/VQkTe4/M/Hun/pbXqTeTM+xQXXWqhqVvSTKwtnoS7vJJEAhAafje6nFyL9eHpmOMmMKG1Cm/mzMOnF11qoalbEmauLcYk7xSrqBFV5U0YPM3fv7x9qZ2+VAsReRNHmoj+Sr+Mc/VGREX5x3vAtOptWHfmEUwd1csv2tMRX2qnL9VCRN7F0ERERESkgD+EiIiIiBQwNBEREREpYGgiIiIiUsDQRERERKSAoYmIiIhIAUMTERERkQKGJiIiIiIFDE1EREREChiaiIiIiBQwNBEREREpYGgiIiIiUsDQRERERKSAoYmIiIhIAUMTERERkQKGJiIiIiIFDE1EREREChiaiIiIiBQwNBEREREpYGgiIiIiUsDQRERERKSAoYmIiIhIwR9VuS5s4zV/FAAAAABJRU5ErkJggg==)"
      ],
      "metadata": {
        "id": "KKl-P4XYCIbZ"
      }
    },
    {
      "cell_type": "code",
      "source": [
        "from scipy.optimize import minimize\n",
        "import random"
      ],
      "metadata": {
        "id": "fdcxkv6L_1rA"
      },
      "execution_count": 1,
      "outputs": []
    },
    {
      "cell_type": "markdown",
      "source": [
        "##Formulate program "
      ],
      "metadata": {
        "id": "Ux7VQMl1EdF7"
      }
    },
    {
      "cell_type": "code",
      "execution_count": 2,
      "metadata": {
        "id": "oblBFqip_ywP"
      },
      "outputs": [],
      "source": [
        "# define objective function\n",
        "fun = lambda x: (x[0] - x[1]) ** 2 + (x[1] + x[2] - 2) ** 2 + (x[3] - 1) ** 2 + (x[4] - 1) ** 2\n",
        "\n",
        "# define constraint\n",
        "const = ({'type': 'eq', 'fun': lambda x: x[0] + 3 * x[1]},\n",
        "        {'type': 'eq', 'fun': lambda x: x[2] + x[3] - 2 * x[4]},\n",
        "        {'type': 'eq', 'fun': lambda x: x[1] - x[4]})\n",
        "\n",
        "# define boundary condition\n",
        "bnds = ((-10, 10), (-10, 10), (-10, 10), (-10, 10), (-10, 10))"
      ]
    },
    {
      "cell_type": "markdown",
      "source": [
        "**[Try with first Initial Guess ]**"
      ],
      "metadata": {
        "id": "ApDzKEEWE4si"
      }
    },
    {
      "cell_type": "code",
      "source": [
        "# set initial guesses\n",
        "x0 = [0, 10, 2, 0, 10]\n",
        "\n",
        "# main method\n",
        "res = minimize(fun, x0, method='SLSQP', bounds=bnds, constraints=const)\n",
        "print(f\"initial guess: {x0}\\nAns: {res.x}.\")"
      ],
      "metadata": {
        "colab": {
          "base_uri": "https://localhost:8080/"
        },
        "id": "qvS2OFmiE3Ux",
        "outputId": "39ab4685-8ce0-48b0-d78a-e3c8f3924f18"
      },
      "execution_count": 3,
      "outputs": [
        {
          "output_type": "stream",
          "name": "stdout",
          "text": [
            "initial guess: [0, 10, 2, 0, 10]\n",
            "Ans: [-0.76737248  0.25579083  0.62782498 -0.11624332  0.25579083].\n"
          ]
        }
      ]
    },
    {
      "cell_type": "markdown",
      "source": [
        "**Evaluate the program with different initial guesses**"
      ],
      "metadata": {
        "id": "PIkKLNQOGqvC"
      }
    },
    {
      "cell_type": "code",
      "source": [
        "#tested with 10 initial guess list between -10 and 10\n",
        "results=[]\n",
        "for i in range(1,10):\n",
        "    random_list = random.sample(range(-10, 10), 5)\n",
        "\n",
        "    # main method\n",
        "    res = minimize(fun, random_list, method='SLSQP', bounds=bnds, constraints=const)\n",
        "    print(f\"inital guess: {random_list}\\nAns: {res.x}.\")\n",
        "    results.append(res.x)\n",
        "\n",
        "mean=[]\n",
        "std=[]\n",
        "for i in range(len(results[0])):\n",
        "  temp_list=[]\n",
        "  diffsquared = 0\n",
        "  sum_diffsquared = 0\n",
        "  for row in results:\n",
        "    temp_list.append(row[i])\n",
        "  mean.append(sum(temp_list)/len(results))\n",
        "  for val in temp_list:\n",
        "    diffsquared = (val-mean[i])**2\n",
        "    sum_diffsquared = diffsquared + sum_diffsquared\n",
        "    stddev = ((sum_diffsquared)/len(temp_list))**(1/2) # correct\n",
        "  std.append(stddev)"
      ],
      "metadata": {
        "colab": {
          "base_uri": "https://localhost:8080/"
        },
        "id": "x0Spl2fXfBer",
        "outputId": "a96003d1-f735-4a21-f08b-bd295d00d5a8"
      },
      "execution_count": 4,
      "outputs": [
        {
          "output_type": "stream",
          "name": "stdout",
          "text": [
            "inital guess: [1, -2, -3, 6, 5]\n",
            "Ans: [-0.76713743  0.25571248  0.6277064  -0.11628145  0.25571248].\n",
            "inital guess: [-5, 0, -3, 2, -10]\n",
            "Ans: [-0.76715647  0.25571882  0.62809572 -0.11665808  0.25571882].\n",
            "inital guess: [-8, 0, 9, -4, -10]\n",
            "Ans: [-0.76733869  0.25577956  0.62799815 -0.11643902  0.25577956].\n",
            "inital guess: [6, 0, -10, 4, 2]\n",
            "Ans: [-0.76719902  0.25573301  0.62781967 -0.11635366  0.25573301].\n",
            "inital guess: [1, -9, 0, 3, 6]\n",
            "Ans: [-0.76744186  0.25581395  0.62790697 -0.11627906  0.25581395].\n",
            "inital guess: [9, 1, 8, -10, 6]\n",
            "Ans: [-0.76744185  0.25581395  0.62790698 -0.11627908  0.25581395].\n",
            "inital guess: [6, 5, -3, -4, 8]\n",
            "Ans: [-0.76724244  0.25574748  0.62801993 -0.11652497  0.25574748].\n",
            "inital guess: [-3, -6, 4, -7, -8]\n",
            "Ans: [-0.76744184  0.25581395  0.62790698 -0.11627908  0.25581395].\n",
            "inital guess: [-2, -5, 7, -10, -4]\n",
            "Ans: [-0.76719598  0.25573199  0.62760937 -0.11614538  0.25573199].\n"
          ]
        }
      ]
    },
    {
      "cell_type": "code",
      "source": [
        "for i in range(len(mean)):\n",
        "  print(f\"mean value of x{i+1}: {mean[i]} and std of x{i+1}: {std[i]}.\\n\")"
      ],
      "metadata": {
        "colab": {
          "base_uri": "https://localhost:8080/"
        },
        "id": "Npf-UfaqTg2N",
        "outputId": "eb1ed53d-4565-4886-b7ab-e69f7b63b619"
      },
      "execution_count": 5,
      "outputs": [
        {
          "output_type": "stream",
          "name": "stdout",
          "text": [
            "mean value of x1: -0.7672883965229036 and std of x1: 0.00012111187469999248.\n",
            "\n",
            "mean value of x2: 0.2557627988409679 and std of x2: 4.037062490000103e-05.\n",
            "\n",
            "mean value of x3: 0.6278855733602757 and std of x3: 0.00014491311784264153.\n",
            "\n",
            "mean value of x4: -0.11635997567833983 and std of x4: 0.00014690463846212337.\n",
            "\n",
            "mean value of x5: 0.2557627988409679 and std of x5: 4.037062490000103e-05.\n",
            "\n"
          ]
        }
      ]
    },
    {
      "cell_type": "markdown",
      "source": [
        "## Impact of initial guess\n",
        "\n",
        "The one sigma standard deviation for each x value **[computed for 10 different initial guess]** was very small ~e-05, so we can conclude that the results converged approximately the same, and error can be considered negligible for most applications."
      ],
      "metadata": {
        "id": "LavqT-dxLuGS"
      }
    }
  ]
}