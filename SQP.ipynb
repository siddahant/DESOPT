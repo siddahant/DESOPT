{
  "nbformat": 4,
  "nbformat_minor": 0,
  "metadata": {
    "colab": {
      "provenance": [],
      "authorship_tag": "ABX9TyPdQ5PSP/GF0aXtiUoeoZ7C"
    },
    "kernelspec": {
      "name": "python3",
      "display_name": "Python 3"
    },
    "language_info": {
      "name": "python"
    }
  },
  "cells": [
    {
      "cell_type": "code",
      "source": [
        "import numpy as np\n",
        "import torch "
      ],
      "metadata": {
        "id": "wSSQUjrQ1VVp"
      },
      "execution_count": 3,
      "outputs": []
    },
    {
      "cell_type": "code",
      "source": [
        "obj = lambda x: x[0]**2 + (x[1] - 3)**2\n",
        "g1 = lambda x: x[1]**2 - 2*x[0]\n",
        "g2 = lambda x: (x[1]-1)**2 + 5*x[0]-15\n",
        "df_obj  = lambda x : torch.tensor([[2 * x[0], 2 * (x[1] - 3)]])\n",
        "df_g1 = lambda x : torch.tensor([[-2, 2 * x[1]]])\n",
        "df_g2 = lambda x: torch.tensor([[5, 2 * (x[1] - 1)]])\n",
        "x = torch.tensor([[1,1.]]).T\n",
        "Lambda = torch.zeros((x.shape[0], 1))\n",
        "weights = torch.zeros((x.shape[0], 1))+2\n",
        "s = torch.tensor([[1,1.]]).T"
      ],
      "metadata": {
        "id": "Sd1pH_CMaNLQ"
      },
      "execution_count": 8,
      "outputs": []
    },
    {
      "cell_type": "code",
      "source": [
        "def meritFun(Lambda, weights,k):\n",
        "  if k > 0:\n",
        "    weights = torch.max(abs(Lambda), 0.5 *(weights + abs(Lambda)))\n",
        "  else:\n",
        "    weights = abs(Lambda)\n",
        "  return weights"
      ],
      "metadata": {
        "id": "XwFyVPErOiZk"
      },
      "execution_count": 9,
      "outputs": []
    },
    {
      "cell_type": "code",
      "source": [
        "def F_alpha(x,weights,alpha,s):\n",
        "  G1=max(0, g1(x + alpha*s)) # constrain 1\n",
        "  G2=max(0, g2(x + alpha*s)) # constrain 2\n",
        "  return obj(x + alpha*s) +  weights[0,:] * G1 + weights[1,:]* G2"
      ],
      "metadata": {
        "id": "mqooyKd3S4zl"
      },
      "execution_count": 22,
      "outputs": []
    },
    {
      "cell_type": "code",
      "source": [
        "def lineSearch(x,Lambda,weights,s,k):\n",
        "    t = 0.3\n",
        "    alpha = 1\n",
        "  \n",
        "    if g1(x) <= 0:\n",
        "       dg1_da = 0\n",
        "    else:\n",
        "      dg1_da= np.matmul(df_g1, s)\n",
        "\n",
        "    if g2(x) <= 0:\n",
        "       dg2_da = 0\n",
        "    else:\n",
        "      dg2_da= np.matmul(df_g2, s)\n",
        "\n",
        "    dF_da = np.matmul(df_obj, s) + (weights[0, :] * dg1_da + weights[1, :] * dg2_da)\n",
        "\n",
        "    phi = lambda x, weights, alpha, t, dF_da: F_alpha(x, weights, 0, 0) + alpha * t * dF_da\n",
        "\n",
        "    while phi(x, weights, alpha, t, dF_da) < F_alpha(x, weights, alpha, s):\n",
        "        alpha = 0.5 * alpha\n",
        "    return alpha, weights"
      ],
      "metadata": {
        "id": "iQQE7Dju2EON"
      },
      "execution_count": 25,
      "outputs": []
    },
    {
      "cell_type": "code",
      "source": [
        "def BFGS(x,W, s, Lambda, alpha):\n",
        "  lx_k = df_obj(x) + torch.matmul(Lambda.T, torch.tensor([g1(x),g2(x)]))\n",
        "  lx_k_1 = df_obj(x + alpha*s) + torch.matmul(Lambda.T, torch.tensor([g1(x + alpha*s),g2(x + alpha*s )]))\n",
        "\n",
        "  delta_l = lx_k_1 -lx_k\n",
        "  # print(delta_l)\n",
        "  Q = torch.matmul(torch.matmul((alpha*s).T, W), (alpha*s))\n",
        "  if torch.matmul((alpha*s).T, delta_l.T) >= 0.2 * torch.matmul(torch.matmul((alpha*s).T, W), (alpha*s)):\n",
        "        theta = 1\n",
        "  else:\n",
        "        theta = 0.8 * Q / (Q - torch.matmul((alpha*s).T, delta_l.T))\n",
        "  y = theta * delta_l.T + (1 - theta) * torch.matmul(W, (alpha*s))\n",
        "  W = W + torch.matmul(y, y.T) / torch.matmul(y.T, s) - torch.matmul(torch.matmul(W, s), torch.matmul(s.T, W)) / torch.matmul(torch.matmul(s.T, W), s)\n",
        "  return W\n",
        "W = torch.eye(x.shape[0])\n",
        "k = 0\n",
        "alpha = 1\n"
      ],
      "metadata": {
        "id": "RLG-Fb5Jm0KD"
      },
      "execution_count": 26,
      "outputs": []
    },
    {
      "cell_type": "code",
      "source": [],
      "metadata": {
        "id": "C4qDJacZR_sR"
      },
      "execution_count": null,
      "outputs": []
    }
  ]
}