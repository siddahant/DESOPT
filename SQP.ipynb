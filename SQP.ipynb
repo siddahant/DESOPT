{
  "nbformat": 4,
  "nbformat_minor": 0,
  "metadata": {
    "colab": {
      "provenance": [],
      "authorship_tag": "ABX9TyP8A4ouEqOviHV5HixfOH9V"
    },
    "kernelspec": {
      "name": "python3",
      "display_name": "Python 3"
    },
    "language_info": {
      "name": "python"
    }
  },
  "cells": [
    {
      "cell_type": "code",
      "source": [
        "import numpy as np\n",
        "import torch \n",
        "from torch.autograd.functional import jacobian\n",
        "from torch.autograd import Variable\n"
      ],
      "metadata": {
        "id": "wSSQUjrQ1VVp"
      },
      "execution_count": 8,
      "outputs": []
    },
    {
      "cell_type": "code",
      "execution_count": 11,
      "metadata": {
        "id": "HmyozjSLJe8h"
      },
      "outputs": [],
      "source": [
        "obj = lambda x: x[0]**2 + (x[1] - 3)**2\n",
        "g1 = lambda x: x[1]**2 + 2*x[0]\n",
        "g2 = lambda x: (x[1]-1)**2 + 5*x[0]-15\n",
        "x = Variable(torch.tensor([1,1.]), requires_grad=True)"
      ]
    },
    {
      "cell_type": "code",
      "source": [
        "# Calculating Reduce Gradient using jacobian\n",
        "def df(obj,g1,g2,x):\n",
        "  #compute Jacobian\n",
        "  Jocobian = torch.zeros((3, 2))\n",
        "  Jocobian[0] = jacobian(obj, (x))\n",
        "  Jocobian[1] = jacobian(g1, (x))\n",
        "  Jocobian[2] = jacobian(g2, (x))\n",
        "  return Jocobian \n"
      ],
      "metadata": {
        "id": "GSsytA1JKnQ3"
      },
      "execution_count": 17,
      "outputs": []
    },
    {
      "cell_type": "code",
      "source": [
        "Dfdd=df(obj,g1,g2,x)"
      ],
      "metadata": {
        "id": "Gk8BKEYc17yd"
      },
      "execution_count": 18,
      "outputs": []
    },
    {
      "cell_type": "code",
      "source": [
        "Dfdd"
      ],
      "metadata": {
        "colab": {
          "base_uri": "https://localhost:8080/"
        },
        "id": "RLQUBPJO2C7k",
        "outputId": "b3f75325-54ef-4ac0-94ae-1de6b674534c"
      },
      "execution_count": 19,
      "outputs": [
        {
          "output_type": "execute_result",
          "data": {
            "text/plain": [
              "tensor([[ 2., -4.],\n",
              "        [ 2.,  2.],\n",
              "        [ 5.,  0.]])"
            ]
          },
          "metadata": {},
          "execution_count": 19
        }
      ]
    },
    {
      "cell_type": "code",
      "source": [
        "def lineSearch(x, t0=0.5, K=25):\n",
        "    ReduceJacobian, dfdd, dfds, dhds, dhdd= RJ(f,h1,h2,x)\n",
        "    alpha = 1\n",
        "    i = 0\n",
        "    func = f(newX(x, alpha))\n",
        "    phi = f(x) - (t0 * alpha * (ReduceJacobian ** 2))\n",
        "    while func > phi and i < K:\n",
        "        alpha = 0.5 * alpha\n",
        "        func = f(newX(x, alpha))\n",
        "        phi = f(x)- (t0 * alpha * (ReduceJacobian ** 2))\n",
        "        i += 1\n",
        "    return alpha"
      ],
      "metadata": {
        "id": "iQQE7Dju2EON"
      },
      "execution_count": 9,
      "outputs": []
    }
  ]
}