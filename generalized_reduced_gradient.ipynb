{
  "nbformat": 4,
  "nbformat_minor": 0,
  "metadata": {
    "colab": {
      "provenance": [],
      "authorship_tag": "ABX9TyOJgqVKA6BU3w2Exv5LYi7D"
    },
    "kernelspec": {
      "name": "python3",
      "display_name": "Python 3"
    },
    "language_info": {
      "name": "python"
    }
  },
  "cells": [
    {
      "cell_type": "code",
      "execution_count": 62,
      "metadata": {
        "id": "mgHyIpAZsNpt"
      },
      "outputs": [],
      "source": [
        "# Import libraries\n",
        "\n",
        "import numpy as np\n",
        "from matplotlib import pyplot as plt\n",
        "\n",
        "\n",
        "import torch\n",
        "import torch.nn as nn\n",
        "from torch.autograd import Variable\n",
        "from torch.autograd.functional import jacobian"
      ]
    },
    {
      "cell_type": "code",
      "source": [
        "f: lambda x: x[0] ** 2 + x[1] ** 2 + x[2] ** 2\n",
        "h1 :lambda x: ((x[0] ** 2) / 4) + ((x[1] ** 2) / 5) + ((x[2] ** 2) / 25) - 1\n",
        "h2: lambda x: x[0] + x[1] - x[2]\n",
        "x = Variable(torch.tensor([1.,1.,1.]), requires_grad=True)\n"
      ],
      "metadata": {
        "id": "BKuMBc-7tLIS"
      },
      "execution_count": 118,
      "outputs": []
    },
    {
      "cell_type": "markdown",
      "source": [
        "We have $n=3$ and $m=2$ here, so the DOF of systme is $n-m = 1$ \\\n",
        "meanwe have only one decision variable variable and two state variable \\\n",
        "let say: \\ \n",
        "$x_1 $ here is the decision variable \\\n",
        "$ x_2$  and  $x_3$ are the state variables \\"
      ],
      "metadata": {
        "id": "Q8V6wrHQoEVC"
      }
    },
    {
      "cell_type": "code",
      "source": [
        "# Calculating Reduce Gradient\n",
        "def RJ(f,h1,h2,x):\n",
        "  Jocobian = torch.zeros((3, 3))\n",
        "  Jocobian[0] = jacobian(f, (x))\n",
        "  Jocobian[1] = jacobian(h1, (x))\n",
        "  Jocobian[2] = jacobian(h2, (x))\n",
        "\n",
        "  dfdd = Jocobian[0,0]\n",
        "  dfds = Jocobian[0,1:]\n",
        "  dhds = Jocobian[1:,1:]\n",
        "  dhdd = Jocobian[1:,0]\n",
        "\n",
        "  DfDd =  dfdd -torch.matmul(torch.matmul(dfds,torch.pinverse(dhds)),dhdd)\n",
        "  return  DfDd, dfdd, dfds, dhds, dhdd"
      ],
      "metadata": {
        "id": "hKz5vRGshq2F"
      },
      "execution_count": 81,
      "outputs": []
    },
    {
      "cell_type": "code",
      "source": [],
      "metadata": {
        "id": "WL2Ops4VxlX-"
      },
      "execution_count": 64,
      "outputs": []
    },
    {
      "cell_type": "code",
      "source": [
        "def LM(x):\n",
        "  Lambda = 1. \n",
        "  norm = torch.norm(torch.tensor([h1(x),h2(x)]))\n",
        "  while norm >1e-06 :\n",
        "      ReduceJacobian, dfdd, dfds, dhds, dhdd= RJ(f,h1,h2,x)\n",
        "      with torch.no_grad():\n",
        "          x[1:] = x[1:]- torch.matmul(torch.matmul(torch.pinverse(torch.matmul(dhds.T,dhds) + Lambda* torch.eye(2)), dhds.T),torch.tensor([h1(x),h2(x)]))\n",
        "      norm= torch.norm(torch.tensor([h1(x),h2(x)]))\n",
        "      print(norm)\n",
        "  return x\n",
        "\n",
        "    "
      ],
      "metadata": {
        "id": "3qmjSuGPsB8X"
      },
      "execution_count": 115,
      "outputs": []
    },
    {
      "cell_type": "code",
      "source": [
        "LM(x)"
      ],
      "metadata": {
        "colab": {
          "base_uri": "https://localhost:8080/"
        },
        "id": "NAv1KEmI8A07",
        "outputId": "d4028106-3c9d-465d-c158-b07ce8a25d73"
      },
      "execution_count": 119,
      "outputs": [
        {
          "output_type": "stream",
          "name": "stdout",
          "text": [
            "tensor(0.6597)\n",
            "tensor(0.5301)\n",
            "tensor(0.4678)\n",
            "tensor(0.4130)\n",
            "tensor(0.3578)\n",
            "tensor(0.3035)\n",
            "tensor(0.2522)\n",
            "tensor(0.2057)\n",
            "tensor(0.1652)\n",
            "tensor(0.1308)\n",
            "tensor(0.1025)\n",
            "tensor(0.0796)\n",
            "tensor(0.0614)\n",
            "tensor(0.0471)\n",
            "tensor(0.0360)\n",
            "tensor(0.0274)\n",
            "tensor(0.0208)\n",
            "tensor(0.0158)\n",
            "tensor(0.0119)\n",
            "tensor(0.0090)\n",
            "tensor(0.0068)\n",
            "tensor(0.0052)\n",
            "tensor(0.0039)\n",
            "tensor(0.0029)\n",
            "tensor(0.0022)\n",
            "tensor(0.0017)\n",
            "tensor(0.0013)\n",
            "tensor(0.0009)\n",
            "tensor(0.0007)\n",
            "tensor(0.0005)\n",
            "tensor(0.0004)\n",
            "tensor(0.0003)\n",
            "tensor(0.0002)\n",
            "tensor(0.0002)\n",
            "tensor(0.0001)\n",
            "tensor(9.8939e-05)\n",
            "tensor(7.4536e-05)\n",
            "tensor(5.6264e-05)\n",
            "tensor(4.2270e-05)\n",
            "tensor(3.1862e-05)\n",
            "tensor(2.4113e-05)\n",
            "tensor(1.8100e-05)\n",
            "tensor(1.3707e-05)\n",
            "tensor(1.0351e-05)\n",
            "tensor(7.6934e-06)\n",
            "tensor(5.9605e-06)\n",
            "tensor(4.4544e-06)\n",
            "tensor(3.3570e-06)\n",
            "tensor(2.4899e-06)\n",
            "tensor(1.9660e-06)\n",
            "tensor(1.3328e-06)\n",
            "tensor(1.0991e-06)\n",
            "tensor(8.5963e-07)\n"
          ]
        },
        {
          "output_type": "execute_result",
          "data": {
            "text/plain": [
              "tensor([1.0000, 1.5614, 2.5614], requires_grad=True)"
            ]
          },
          "metadata": {},
          "execution_count": 119
        }
      ]
    },
    {
      "cell_type": "code",
      "source": [
        "def newX(x, alpha):\n",
        "    updatedx = torch.zeros(3)\n",
        "    ReduceJacobian, dfdd, dfds, dhds, dhdd= RJ(f,h1,h2,x)\n",
        "    updatedx[0] = x[0] - alpha * ReduceJacobian\n",
        "\n",
        "    updatedx[1:] = x[1:] + (alpha * (torch.matmul(torch.pinverse(dhds),dhdd))*dfdd)\n",
        "    return updatedx\n",
        "\n",
        "\n",
        "def lineSearch(x, t0=0.5, K=25):\n",
        "    ReduceJacobian, dfdd, dfds, dhds, dhdd= RJ(f,h1,h2,x)\n",
        "    alpha = 1\n",
        "    i = 0\n",
        "    func = f(newX(x, alpha))\n",
        "    phi = f(x) - (t0 * alpha * (ReduceJacobian ** 2))\n",
        "    \n",
        "    while func > phi and i < K:\n",
        "        alpha = 0.5 * alpha\n",
        "        func = f(newX(x, alpha))\n",
        "        phi = f(x)- (t0 * alpha * (ReduceJacobian ** 2))\n",
        "        i += 1\n",
        "    return alpha"
      ],
      "metadata": {
        "id": "Q0YI3Bmjz_rG"
      },
      "execution_count": 127,
      "outputs": []
    },
    {
      "cell_type": "code",
      "source": [
        "\n",
        "# Part 4\n",
        "# Initialization\n",
        "def GRG(x):\n",
        "    ReduceJacobian, dfdd, dfds, dhds, dhdd= RJ(f,h1,h2,x)\n",
        "    e = torch.norm(ReduceJacobian)\n",
        "    tol = 1e-3\n",
        "\n",
        "    xSol = x.detach().numpy()\n",
        "    fVal = [f(x).item()]\n",
        "    alphaSol = [1]\n",
        "    eVal = [e]\n",
        "\n",
        "    k = 0\n",
        "    while e > tol:\n",
        "        alpha = lineSearch(x)\n",
        "\n",
        "        ReduceJacobian, dfdd, dfds, dhds, dhdd= RJ(f,h1,h2,x)\n",
        "\n",
        "        with torch.no_grad():\n",
        "            x[0] = x[0] - alpha * ReduceJacobian\n",
        "            x[1:] = x[1:] + (alpha * np.matmul(torch.pinverse(dhds) ,  dhdd) *  ReduceJacobian)\n",
        "\n",
        "   \n",
        "        x = LM(x)\n",
        "        xSol = np.vstack((xSol, x.detach().numpy())) \n",
        "\n",
        "        e = torch.norm(ReduceJacobian)\n",
        "        \n",
        "    return xSol"
      ],
      "metadata": {
        "id": "Tzg_UtPR2WHi"
      },
      "execution_count": 122,
      "outputs": []
    },
    {
      "cell_type": "code",
      "source": [
        "x = torch.tensor([1., 1., 1.], dtype=torch.float64, requires_grad=True)\n",
        "xSol= GRG(x)"
      ],
      "metadata": {
        "colab": {
          "base_uri": "https://localhost:8080/",
          "height": 328
        },
        "id": "BfuAQ03T6fe7",
        "outputId": "2118b9c5-59ed-48a8-8e36-1049ad31a938"
      },
      "execution_count": 128,
      "outputs": [
        {
          "output_type": "error",
          "ename": "RuntimeError",
          "evalue": "ignored",
          "traceback": [
            "\u001b[0;31m---------------------------------------------------------------------------\u001b[0m",
            "\u001b[0;31mRuntimeError\u001b[0m                              Traceback (most recent call last)",
            "\u001b[0;32m<ipython-input-128-9e03d85ef34b>\u001b[0m in \u001b[0;36m<module>\u001b[0;34m\u001b[0m\n\u001b[1;32m      1\u001b[0m \u001b[0mx\u001b[0m \u001b[0;34m=\u001b[0m \u001b[0mtorch\u001b[0m\u001b[0;34m.\u001b[0m\u001b[0mtensor\u001b[0m\u001b[0;34m(\u001b[0m\u001b[0;34m[\u001b[0m\u001b[0;36m1.\u001b[0m\u001b[0;34m,\u001b[0m \u001b[0;36m1.\u001b[0m\u001b[0;34m,\u001b[0m \u001b[0;36m1.\u001b[0m\u001b[0;34m]\u001b[0m\u001b[0;34m,\u001b[0m \u001b[0mdtype\u001b[0m\u001b[0;34m=\u001b[0m\u001b[0mtorch\u001b[0m\u001b[0;34m.\u001b[0m\u001b[0mfloat64\u001b[0m\u001b[0;34m,\u001b[0m \u001b[0mrequires_grad\u001b[0m\u001b[0;34m=\u001b[0m\u001b[0;32mTrue\u001b[0m\u001b[0;34m)\u001b[0m\u001b[0;34m\u001b[0m\u001b[0;34m\u001b[0m\u001b[0m\n\u001b[0;32m----> 2\u001b[0;31m \u001b[0mxSol\u001b[0m\u001b[0;34m=\u001b[0m \u001b[0mGRG\u001b[0m\u001b[0;34m(\u001b[0m\u001b[0mx\u001b[0m\u001b[0;34m)\u001b[0m\u001b[0;34m\u001b[0m\u001b[0;34m\u001b[0m\u001b[0m\n\u001b[0m",
            "\u001b[0;32m<ipython-input-122-53ce4284cc18>\u001b[0m in \u001b[0;36mGRG\u001b[0;34m(x)\u001b[0m\n\u001b[1;32m     22\u001b[0m \u001b[0;34m\u001b[0m\u001b[0m\n\u001b[1;32m     23\u001b[0m \u001b[0;34m\u001b[0m\u001b[0m\n\u001b[0;32m---> 24\u001b[0;31m         \u001b[0mx\u001b[0m \u001b[0;34m=\u001b[0m \u001b[0mLM\u001b[0m\u001b[0;34m(\u001b[0m\u001b[0mx\u001b[0m\u001b[0;34m)\u001b[0m\u001b[0;34m\u001b[0m\u001b[0;34m\u001b[0m\u001b[0m\n\u001b[0m\u001b[1;32m     25\u001b[0m         \u001b[0mxSol\u001b[0m \u001b[0;34m=\u001b[0m \u001b[0mnp\u001b[0m\u001b[0;34m.\u001b[0m\u001b[0mvstack\u001b[0m\u001b[0;34m(\u001b[0m\u001b[0;34m(\u001b[0m\u001b[0mxSol\u001b[0m\u001b[0;34m,\u001b[0m \u001b[0mx\u001b[0m\u001b[0;34m.\u001b[0m\u001b[0mdetach\u001b[0m\u001b[0;34m(\u001b[0m\u001b[0;34m)\u001b[0m\u001b[0;34m.\u001b[0m\u001b[0mnumpy\u001b[0m\u001b[0;34m(\u001b[0m\u001b[0;34m)\u001b[0m\u001b[0;34m)\u001b[0m\u001b[0;34m)\u001b[0m\u001b[0;34m\u001b[0m\u001b[0;34m\u001b[0m\u001b[0m\n\u001b[1;32m     26\u001b[0m \u001b[0;34m\u001b[0m\u001b[0m\n",
            "\u001b[0;32m<ipython-input-115-4c87637b23cb>\u001b[0m in \u001b[0;36mLM\u001b[0;34m(x)\u001b[0m\n\u001b[1;32m      5\u001b[0m       \u001b[0mReduceJacobian\u001b[0m\u001b[0;34m,\u001b[0m \u001b[0mdfdd\u001b[0m\u001b[0;34m,\u001b[0m \u001b[0mdfds\u001b[0m\u001b[0;34m,\u001b[0m \u001b[0mdhds\u001b[0m\u001b[0;34m,\u001b[0m \u001b[0mdhdd\u001b[0m\u001b[0;34m=\u001b[0m \u001b[0mRJ\u001b[0m\u001b[0;34m(\u001b[0m\u001b[0mf\u001b[0m\u001b[0;34m,\u001b[0m\u001b[0mh1\u001b[0m\u001b[0;34m,\u001b[0m\u001b[0mh2\u001b[0m\u001b[0;34m,\u001b[0m\u001b[0mx\u001b[0m\u001b[0;34m)\u001b[0m\u001b[0;34m\u001b[0m\u001b[0;34m\u001b[0m\u001b[0m\n\u001b[1;32m      6\u001b[0m       \u001b[0;32mwith\u001b[0m \u001b[0mtorch\u001b[0m\u001b[0;34m.\u001b[0m\u001b[0mno_grad\u001b[0m\u001b[0;34m(\u001b[0m\u001b[0;34m)\u001b[0m\u001b[0;34m:\u001b[0m\u001b[0;34m\u001b[0m\u001b[0;34m\u001b[0m\u001b[0m\n\u001b[0;32m----> 7\u001b[0;31m           \u001b[0mx\u001b[0m\u001b[0;34m[\u001b[0m\u001b[0;36m1\u001b[0m\u001b[0;34m:\u001b[0m\u001b[0;34m]\u001b[0m \u001b[0;34m=\u001b[0m \u001b[0mx\u001b[0m\u001b[0;34m[\u001b[0m\u001b[0;36m1\u001b[0m\u001b[0;34m:\u001b[0m\u001b[0;34m]\u001b[0m\u001b[0;34m-\u001b[0m \u001b[0mtorch\u001b[0m\u001b[0;34m.\u001b[0m\u001b[0mmatmul\u001b[0m\u001b[0;34m(\u001b[0m\u001b[0mtorch\u001b[0m\u001b[0;34m.\u001b[0m\u001b[0mmatmul\u001b[0m\u001b[0;34m(\u001b[0m\u001b[0mtorch\u001b[0m\u001b[0;34m.\u001b[0m\u001b[0mpinverse\u001b[0m\u001b[0;34m(\u001b[0m\u001b[0mtorch\u001b[0m\u001b[0;34m.\u001b[0m\u001b[0mmatmul\u001b[0m\u001b[0;34m(\u001b[0m\u001b[0mdhds\u001b[0m\u001b[0;34m.\u001b[0m\u001b[0mT\u001b[0m\u001b[0;34m,\u001b[0m\u001b[0mdhds\u001b[0m\u001b[0;34m)\u001b[0m \u001b[0;34m+\u001b[0m \u001b[0mLambda\u001b[0m\u001b[0;34m*\u001b[0m \u001b[0mtorch\u001b[0m\u001b[0;34m.\u001b[0m\u001b[0meye\u001b[0m\u001b[0;34m(\u001b[0m\u001b[0;36m2\u001b[0m\u001b[0;34m)\u001b[0m\u001b[0;34m)\u001b[0m\u001b[0;34m,\u001b[0m \u001b[0mdhds\u001b[0m\u001b[0;34m.\u001b[0m\u001b[0mT\u001b[0m\u001b[0;34m)\u001b[0m\u001b[0;34m,\u001b[0m\u001b[0mtorch\u001b[0m\u001b[0;34m.\u001b[0m\u001b[0mtensor\u001b[0m\u001b[0;34m(\u001b[0m\u001b[0;34m[\u001b[0m\u001b[0mh1\u001b[0m\u001b[0;34m(\u001b[0m\u001b[0mx\u001b[0m\u001b[0;34m)\u001b[0m\u001b[0;34m,\u001b[0m\u001b[0mh2\u001b[0m\u001b[0;34m(\u001b[0m\u001b[0mx\u001b[0m\u001b[0;34m)\u001b[0m\u001b[0;34m]\u001b[0m\u001b[0;34m)\u001b[0m\u001b[0;34m)\u001b[0m\u001b[0;34m\u001b[0m\u001b[0;34m\u001b[0m\u001b[0m\n\u001b[0m\u001b[1;32m      8\u001b[0m       \u001b[0mnorm\u001b[0m\u001b[0;34m=\u001b[0m \u001b[0mtorch\u001b[0m\u001b[0;34m.\u001b[0m\u001b[0mnorm\u001b[0m\u001b[0;34m(\u001b[0m\u001b[0mtorch\u001b[0m\u001b[0;34m.\u001b[0m\u001b[0mtensor\u001b[0m\u001b[0;34m(\u001b[0m\u001b[0;34m[\u001b[0m\u001b[0mh1\u001b[0m\u001b[0;34m(\u001b[0m\u001b[0mx\u001b[0m\u001b[0;34m)\u001b[0m\u001b[0;34m,\u001b[0m\u001b[0mh2\u001b[0m\u001b[0;34m(\u001b[0m\u001b[0mx\u001b[0m\u001b[0;34m)\u001b[0m\u001b[0;34m]\u001b[0m\u001b[0;34m)\u001b[0m\u001b[0;34m)\u001b[0m\u001b[0;34m\u001b[0m\u001b[0;34m\u001b[0m\u001b[0m\n\u001b[1;32m      9\u001b[0m       \u001b[0mprint\u001b[0m\u001b[0;34m(\u001b[0m\u001b[0mnorm\u001b[0m\u001b[0;34m)\u001b[0m\u001b[0;34m\u001b[0m\u001b[0;34m\u001b[0m\u001b[0m\n",
            "\u001b[0;31mRuntimeError\u001b[0m: expected scalar type Float but found Double"
          ]
        }
      ]
    },
    {
      "cell_type": "code",
      "source": [],
      "metadata": {
        "id": "ARUeqgat8yUG"
      },
      "execution_count": null,
      "outputs": []
    }
  ]
}