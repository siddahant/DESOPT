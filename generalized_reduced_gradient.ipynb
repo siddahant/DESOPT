{
  "nbformat": 4,
  "nbformat_minor": 0,
  "metadata": {
    "colab": {
      "provenance": [],
      "authorship_tag": "ABX9TyP5oitckYpw1gStX0iv5p1I"
    },
    "kernelspec": {
      "name": "python3",
      "display_name": "Python 3"
    },
    "language_info": {
      "name": "python"
    }
  },
  "cells": [
    {
      "cell_type": "code",
      "execution_count": 5,
      "metadata": {
        "id": "mgHyIpAZsNpt"
      },
      "outputs": [],
      "source": [
        "# Import libraries\n",
        "\n",
        "import numpy as np\n",
        "from matplotlib import pyplot as plt\n",
        "\n",
        "\n",
        "import torch\n",
        "import torch.nn as nn\n",
        "from torch.autograd import Variable\n",
        "from torch.autograd.functional import jacobian"
      ]
    },
    {
      "cell_type": "code",
      "source": [
        "def f(x):\n",
        "    return lambda x: x[0] ** 2 + x[1] ** 2 + x[2] ** 2\n",
        "def h1(x):\n",
        "    return lambda x: ((x[0] ** 2) / 4) + ((x[1] ** 2) / 5) + ((x[2] ** 2) / 25) - 1\n",
        "def h2(x):\n",
        "    return lambda x: x[0] + x[1] - x[2]\n",
        "x = Variable(torch.tensor([1.,1.,1.]), requires_grad=True)\n"
      ],
      "metadata": {
        "id": "BKuMBc-7tLIS"
      },
      "execution_count": 10,
      "outputs": []
    },
    {
      "cell_type": "markdown",
      "source": [
        "We have $n=3$ and $m=2$ here, so the DOF of systme is $n-m = 1$ \\\n",
        "meanwe have only one decision variable variable and two state variable \\\n",
        "let say: \\ \n",
        "$x_1 $ here is the decision variable \\\n",
        "$ x_2$  and  $x_3$ are the state variables \\"
      ],
      "metadata": {
        "id": "Q8V6wrHQoEVC"
      }
    },
    {
      "cell_type": "code",
      "source": [
        "# Calculating Reduce Gradient\n",
        "Jocobian = torch.zeros((3, 3))\n",
        "Jocobian[0] = jacobian(f(x), (x))\n",
        "Jocobian[1] = jacobian(h1(x), (x))\n",
        "Jocobian[2] = jacobian(h2(x), (x))\n",
        "\n",
        "dfdd = Jocobian[0,0]\n",
        "dfds = Jocobian[0,1:]\n",
        "dhds = Jocobian[1:,1:]\n",
        "dhdd = Jocobian[1:,0]\n",
        "\n",
        "DfDd =  dfdd -torch.matmul(torch.matmul(dfds,torch.pinverse(dhds)),dhdd)\n",
        "DfDd"
      ],
      "metadata": {
        "colab": {
          "base_uri": "https://localhost:8080/"
        },
        "id": "hKz5vRGshq2F",
        "outputId": "0abf35c1-0a2b-4c70-9f1a-e0c10eeae960"
      },
      "execution_count": 30,
      "outputs": [
        {
          "output_type": "execute_result",
          "data": {
            "text/plain": [
              "tensor(-0.8333)"
            ]
          },
          "metadata": {},
          "execution_count": 30
        }
      ]
    },
    {
      "cell_type": "code",
      "source": [],
      "metadata": {
        "id": "3qmjSuGPsB8X"
      },
      "execution_count": null,
      "outputs": []
    },
    {
      "cell_type": "code",
      "source": [
        "\n"
      ],
      "metadata": {
        "id": "ZTOV37FUrhSb"
      },
      "execution_count": 25,
      "outputs": []
    },
    {
      "cell_type": "code",
      "source": [],
      "metadata": {
        "id": "k3Ug8e8ptnev"
      },
      "execution_count": null,
      "outputs": []
    }
  ]
}