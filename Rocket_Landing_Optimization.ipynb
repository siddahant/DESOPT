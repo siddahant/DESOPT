{
  "nbformat": 4,
  "nbformat_minor": 0,
  "metadata": {
    "colab": {
      "provenance": [],
      "collapsed_sections": [],
      "authorship_tag": "ABX9TyM14qAnVJR7eapB8hck8IoA"
    },
    "kernelspec": {
      "name": "python3",
      "display_name": "Python 3"
    },
    "language_info": {
      "name": "python"
    }
  },
  "cells": [
    {
      "cell_type": "code",
      "execution_count": 1,
      "metadata": {
        "id": "WjVc-0X1kG0_"
      },
      "outputs": [],
      "source": [
        "# overhead\n",
        "\n",
        "import logging\n",
        "import math\n",
        "import random\n",
        "import numpy as np\n",
        "import time\n",
        "import torch as t\n",
        "import torch.nn as nn\n",
        "from torch import optim\n",
        "from torch.nn import utils\n",
        "import matplotlib.pyplot as plt\n",
        "\n",
        "logger = logging.getLogger(__name__)"
      ]
    },
    {
      "cell_type": "code",
      "source": [
        "# environment parameters\n",
        "\n",
        "FRAME_TIME = 0.1  # time interval\n",
        "GRAVITY_ACCEL = 0.12  # gravity constant\n",
        "BOOST_ACCEL = 0.18  # thrust constant"
      ],
      "metadata": {
        "id": "6kmjEYQWA7va"
      },
      "execution_count": 3,
      "outputs": []
    },
    {
      "cell_type": "code",
      "source": [
        "# define system dynamics\n",
        "\n",
        "class Dynamics(nn.Module):\n",
        "\n",
        "    def __init__(self):\n",
        "        super(Dynamics, self).__init__()\n",
        "\n",
        "    @staticmethod\n",
        "    def forward(state, action):\n",
        "\n",
        "        \"\"\"\n",
        "        action: thrust or no thrust\n",
        "        state[0] = y\n",
        "        state[1] = y_dot\n",
        "        \"\"\"\n",
        "        \n",
        "        # Apply gravity\n",
        "        # Note: Here gravity is used to change velocity which is the second element of the state vector\n",
        "        delta_state_gravity = t.tensor([0., GRAVITY_ACCEL * FRAME_TIME])\n",
        "\n",
        "        # Thrust\n",
        "        delta_state = BOOST_ACCEL * FRAME_TIME * t.tensor([0., -1.]) * action\n",
        "\n",
        "        # Update velocity\n",
        "        state = state + delta_state + delta_state_gravity\n",
        "        \n",
        "        # Update state\n",
        "        step_mat = t.tensor([[1., FRAME_TIME],\n",
        "                            [0., 1.]])\n",
        "        state = t.matmul(step_mat, state)\n",
        "\n",
        "        return state"
      ],
      "metadata": {
        "id": "DgefAWUdBA5s"
      },
      "execution_count": null,
      "outputs": []
    }
  ]
}